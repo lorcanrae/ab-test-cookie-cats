{
 "cells": [
  {
   "cell_type": "markdown",
   "id": "00bef3b7-869f-4156-914f-2b0a1c40548e",
   "metadata": {},
   "source": [
    "# A/B Testing: Player Retention for Mobile Game\n",
    "\n",
    "## Table of Contents\n",
    "\n",
    "- [1. Intorduction and Context](#1)\n",
    "- [2. Imports and Helpers](#2)\n",
    "- [3. Data](#3)\n",
    "- [4. Exploratory Data Analysis](#4)\n",
    "    - [4.1. Player Behaviour - Game Rounds Played](#4.1)\n",
    "    - [4.2. Player Behaviour - Retention](#4.2)\n",
    "- [arst](#5)"
   ]
  },
  {
   "cell_type": "markdown",
   "id": "540fd7c0-d8f7-43c9-94d8-fda8d5bfde23",
   "metadata": {},
   "source": [
    "## 1. Introduction and Context <a name='1'></a>"
   ]
  },
  {
   "cell_type": "markdown",
   "id": "ad1a6087-2744-4ee1-aef1-3ff33e42b71d",
   "metadata": {},
   "source": [
    "This is a [mini project](datacamp.com/projects/184) from [DataCamp](datacamp.com). \n",
    "\n",
    "### Project Description from DataCamp:\n",
    "\n",
    "[Cookie Cats](https://tactilegames.com/cookie-cats/) is a hugely popular mobile puzzle game developed by [Tactile Entertainment](https://tactilegames.com). It's a classic \"connect three\" style puzzle game where the player must connect tiles of the same color in order to clear the board and win the level. It also features singing cats. We're not kidding!\n",
    "\n",
    "**As players progress through the game they will encounter gates that force them to wait some time before they can progress or alternatively make an in-app purchase to progress. In this project, we will analyze the result of an A/B test where the first gate in Cookie Cats was moved from level 30 to level 40. In particular, we will analyze the impact on player retention.**\n",
    "\n",
    "🍪 🐈 🍪 🐈 🍪 🐈\n",
    "\n",
    "### Problem Statement\n",
    "\n",
    "Should the proposed gate at Level 40 be implemented over the existing gate at Level 40 based on day 1 and 7 player retention rates.\n",
    "\n",
    "### Data Descriptions\n",
    "\n",
    "The dataset contains is from 90,189 players that installed the game while the AB Test was running. \n",
    "\n",
    "Dataset labels:\n",
    "- `userid` - `int` - unique player identifier.\n",
    "- `version` - `str` - group the player was randomly assigned to: control (`gate_30` .- gate at Level 30) or treatment (`gate_40` - gate at Level 40).\n",
    "- `sum_gamerounds` - `int` - total number of games played by the player during the first week after installation.\n",
    "- `retention_1` - `bool` - `True` if the player played 1 day after installing else `False`.\n",
    "- `retention_7` - `bool` - `True` if the player played 7 days after installing else `False`."
   ]
  },
  {
   "cell_type": "markdown",
   "id": "bcabe474-1e2f-4dab-b89c-7b712a883b71",
   "metadata": {},
   "source": [
    "## 2. Imports and Helpers<a name='2'></a>"
   ]
  },
  {
   "cell_type": "code",
   "execution_count": 1,
   "id": "e2ec548c-2ca3-439c-9c06-ef33d8f4f0d4",
   "metadata": {},
   "outputs": [],
   "source": [
    "# PyData\n",
    "import numpy as np\n",
    "import pandas as pd\n",
    "import matplotlib.pyplot as plt\n",
    "import seaborn as sns\n",
    "import os\n",
    "\n",
    "# Hypothesis Testing\n",
    "import scipy.stats as stats"
   ]
  },
  {
   "cell_type": "code",
   "execution_count": 2,
   "id": "06b9e263-2ede-4de7-ac24-0fd8238b0c28",
   "metadata": {},
   "outputs": [],
   "source": [
    "# Global Formatting and rendering\n",
    "%matplotlib inline\n",
    "pd.options.display.float_format = '{:.3f}'.format\n",
    "sns.set_palette('colorblind')"
   ]
  },
  {
   "cell_type": "code",
   "execution_count": 3,
   "id": "c1f5b0c0-7a97-4574-8c69-c5d212ee638c",
   "metadata": {},
   "outputs": [],
   "source": [
    "# Helper Functions\n",
    "\n",
    "def infoplus(df):\n",
    "    '''Returns an expanded form of pandas .info() to include,\n",
    "    shape, null count, null% and unique count'''\n",
    "    infod = {'col_ind': [], 'col_name': [], 'non_null': [], 'null': [],\n",
    "             'null_per': [], 'unique': [],'dtype': []}\n",
    "    max_len = []\n",
    "\n",
    "    for i, col in enumerate(df.columns):\n",
    "        infod['col_ind'].append(i)\n",
    "        infod['col_name'].append(col)\n",
    "        infod['non_null'].append(df[col].value_counts().sum())\n",
    "        infod['null'].append(df[col].isna().sum())\n",
    "        infod['null_per'].append(round(infod['null'][-1] / len(df), 5))\n",
    "        infod['unique'].append(len(df[col].unique()))\n",
    "        infod['dtype'].append(str(df[col].dtype))\n",
    "\n",
    "    for key in infod.keys():\n",
    "        max_len.append(len(max(map(str, infod[key]), key=len)))\n",
    "    for i, key in enumerate(infod.keys()):\n",
    "        max_len[i] = max(len(key), max_len[i])\n",
    "    if max_len[4] > 6:\n",
    "        max_len[4] = 6\n",
    "\n",
    "    OFFSET = 2\n",
    "    print(type(df))\n",
    "    print(f'Range Index: {len(df)} entries, {df.index[0]} to {df.index[-1]}')\n",
    "    print(f'Shape: {df.shape}')\n",
    "    print(f'''\\\n",
    "{'#': ^{max_len[0] + OFFSET - 2}}\\\n",
    "{'Column': <{max_len[1]}}\\\n",
    "{'Non-Null': >{max_len[2] + OFFSET}}\\\n",
    "{'Null': >{max_len[3] + OFFSET}}\\\n",
    "{'% Null': >{max_len[4] + OFFSET}}\\\n",
    "{'Unique': >{max_len[5] + OFFSET}}  \\\n",
    "{'dtype': <{max_len[6] + OFFSET}}\\\n",
    "''')\n",
    "    print(f'''\\\n",
    "{'-' * (max(3, max_len[0]) - 2): ^{max_len[0] + OFFSET - 2}}\\\n",
    "{'-' * max_len[1]: <{max_len[1]}}\\\n",
    "{'-' * max_len[2]: >{max_len[2] + OFFSET}}\\\n",
    "{'-' * max_len[3]: >{max_len[3] + OFFSET}}\\\n",
    "{'-' * max_len[4]: >{max_len[4] + OFFSET}}\\\n",
    "{'-' * max_len[5]: >{max_len[5] + OFFSET}}  \\\n",
    "{'-' * max_len[6]: <{max_len[6] + OFFSET}}\\\n",
    "''')\n",
    "    for i in infod['col_ind']:\n",
    "        print(f'''{str(infod['col_ind'][i]): ^{max(3, max_len[0] + OFFSET - 2)}}\\\n",
    "{infod['col_name'][i]: <{max_len[1]}}\\\n",
    "{infod['non_null'][i]: >{max_len[2] + OFFSET}}\\\n",
    "{infod['null'][i]: >{max_len[3] + OFFSET}}\\\n",
    "{f\"{infod['null_per'][i] * 100: .2f}\": >{max_len[4] + OFFSET}}\\\n",
    "{infod['unique'][i]: >{max_len[5] + OFFSET}}  \\\n",
    "{infod['dtype'][i]: <{max_len[6] + OFFSET}}\\\n",
    "              ''')\n",
    "    \n",
    "    dtypes = [dtype for dtype in set(infod['dtype'])]\n",
    "    for dtype in dtypes:\n",
    "        dtype_count = [f\"{dtype}({infod['dtype'].count(dtype)})\" for dtype in dtypes]\n",
    "    print(f\"dtypes: {', '.join(dtype_count)}\")\n",
    "    print(f'memory usage: {byte_conversion(df.memory_usage().sum())}')\n",
    "    \n",
    "# Helper\n",
    "def byte_conversion(df_mem):\n",
    "    '''Converts bytes to readable magnitude, used in infoplus()'''\n",
    "    ending_dict = {1: 'B', 2: 'KB', 3: 'MB', 4: 'GB'}\n",
    "    power = 1\n",
    "    while df_mem / (1024 ** power) > 1:\n",
    "        power += 1\n",
    "        if power == 4:\n",
    "            break\n",
    "    return f'{df_mem / (1024 ** (power - 1)): .2f} {ending_dict[power]}'"
   ]
  },
  {
   "cell_type": "markdown",
   "id": "e7d44fc4-23db-41ff-a417-b663ce12f3d3",
   "metadata": {},
   "source": [
    "## 3. Data <a name='3'></a>"
   ]
  },
  {
   "cell_type": "code",
   "execution_count": 4,
   "id": "cc384d51-1a72-4b26-9235-9366ec156fdf",
   "metadata": {},
   "outputs": [
    {
     "data": {
      "text/html": [
       "<div>\n",
       "<style scoped>\n",
       "    .dataframe tbody tr th:only-of-type {\n",
       "        vertical-align: middle;\n",
       "    }\n",
       "\n",
       "    .dataframe tbody tr th {\n",
       "        vertical-align: top;\n",
       "    }\n",
       "\n",
       "    .dataframe thead th {\n",
       "        text-align: right;\n",
       "    }\n",
       "</style>\n",
       "<table border=\"1\" class=\"dataframe\">\n",
       "  <thead>\n",
       "    <tr style=\"text-align: right;\">\n",
       "      <th></th>\n",
       "      <th>userid</th>\n",
       "      <th>version</th>\n",
       "      <th>sum_gamerounds</th>\n",
       "      <th>retention_1</th>\n",
       "      <th>retention_7</th>\n",
       "    </tr>\n",
       "  </thead>\n",
       "  <tbody>\n",
       "    <tr>\n",
       "      <th>0</th>\n",
       "      <td>116</td>\n",
       "      <td>gate_30</td>\n",
       "      <td>3</td>\n",
       "      <td>False</td>\n",
       "      <td>False</td>\n",
       "    </tr>\n",
       "    <tr>\n",
       "      <th>1</th>\n",
       "      <td>337</td>\n",
       "      <td>gate_30</td>\n",
       "      <td>38</td>\n",
       "      <td>True</td>\n",
       "      <td>False</td>\n",
       "    </tr>\n",
       "    <tr>\n",
       "      <th>2</th>\n",
       "      <td>377</td>\n",
       "      <td>gate_40</td>\n",
       "      <td>165</td>\n",
       "      <td>True</td>\n",
       "      <td>False</td>\n",
       "    </tr>\n",
       "    <tr>\n",
       "      <th>3</th>\n",
       "      <td>483</td>\n",
       "      <td>gate_40</td>\n",
       "      <td>1</td>\n",
       "      <td>False</td>\n",
       "      <td>False</td>\n",
       "    </tr>\n",
       "    <tr>\n",
       "      <th>4</th>\n",
       "      <td>488</td>\n",
       "      <td>gate_40</td>\n",
       "      <td>179</td>\n",
       "      <td>True</td>\n",
       "      <td>True</td>\n",
       "    </tr>\n",
       "  </tbody>\n",
       "</table>\n",
       "</div>"
      ],
      "text/plain": [
       "   userid  version  sum_gamerounds  retention_1  retention_7\n",
       "0     116  gate_30               3        False        False\n",
       "1     337  gate_30              38         True        False\n",
       "2     377  gate_40             165         True        False\n",
       "3     483  gate_40               1        False        False\n",
       "4     488  gate_40             179         True         True"
      ]
     },
     "execution_count": 4,
     "metadata": {},
     "output_type": "execute_result"
    }
   ],
   "source": [
    "data = pd.read_csv('../raw_data/cookie_cats.csv')\n",
    "\n",
    "data.head()"
   ]
  },
  {
   "cell_type": "code",
   "execution_count": 5,
   "id": "f533ce9e-7a5e-43cc-98f1-31376987f7a0",
   "metadata": {},
   "outputs": [
    {
     "name": "stdout",
     "output_type": "stream",
     "text": [
      "<class 'pandas.core.frame.DataFrame'>\n",
      "Range Index: 90189 entries, 0 to 90188\n",
      "Shape: (90189, 5)\n",
      "   #   Column          Non-Null  Null  % Null  Unique  dtype   \n",
      " ----- --------------  --------  ----  ------  ------  ------  \n",
      "   0   userid             90189     0    0.00   90189  int64                 \n",
      "   1   version            90189     0    0.00       2  object                \n",
      "   2   sum_gamerounds     90189     0    0.00     942  int64                 \n",
      "   3   retention_1        90189     0    0.00       2  bool                  \n",
      "   4   retention_7        90189     0    0.00       2  bool                  \n",
      "dtypes: object(1), bool(2), int64(2)\n",
      "memory usage:  2.24 MB\n"
     ]
    }
   ],
   "source": [
    "# Check dataframe shape, null counts and unique values, datatypes\n",
    "infoplus(data)"
   ]
  },
  {
   "cell_type": "code",
   "execution_count": 6,
   "id": "6631571d-cff0-4645-8eb3-a3221bb3274c",
   "metadata": {},
   "outputs": [
    {
     "data": {
      "text/plain": [
       "False"
      ]
     },
     "execution_count": 6,
     "metadata": {},
     "output_type": "execute_result"
    }
   ],
   "source": [
    "rows = {'rows': False}\n",
    "\n",
    "list(rows.values())[0]"
   ]
  },
  {
   "cell_type": "code",
   "execution_count": 7,
   "id": "0f97cc90-b280-4276-b87e-063c2ad13c97",
   "metadata": {},
   "outputs": [
    {
     "name": "stdout",
     "output_type": "stream",
     "text": [
      "No duplicate rows present.\n",
      "No duplicate users present.\n"
     ]
    },
    {
     "data": {
      "text/plain": [
       "(True, True)"
      ]
     },
     "execution_count": 7,
     "metadata": {},
     "output_type": "execute_result"
    }
   ],
   "source": [
    "# Check duplicates within data frame and duplicated users\n",
    "def duplicated_rows_check(df):\n",
    "    rows = {'name' : 'rows', 'value': False}\n",
    "    users = {'name' : 'users', 'value': False}\n",
    "    if df.duplicated().sum() == 0:\n",
    "        rows['value'] = True\n",
    "    if df['userid'].duplicated().sum() == 0:\n",
    "        users['value'] = True\n",
    "    for check in [rows, users]:\n",
    "        print(f\"No duplicate {check['name']} present.\" if check['value'] == True\n",
    "              else f\"Duplicate {check['name']} present.\")\n",
    "    return rows['value'], users['value']\n",
    "    \n",
    "duplicated_rows_check(data)"
   ]
  },
  {
   "cell_type": "markdown",
   "id": "5cc26698-66aa-4731-bf18-1c87281f5d9c",
   "metadata": {
    "tags": []
   },
   "source": [
    "Observations:\n",
    "- There are no null values.\n",
    "- `version`, `retention_1` and `retention_7` have binary values as expected.\n",
    "- There are no duplicate entries or duplicated users.\n",
    "- Data is generally clean and ready to use."
   ]
  },
  {
   "cell_type": "markdown",
   "id": "ee2f7125-799c-4b13-b4df-c1f6a50384ce",
   "metadata": {},
   "source": [
    "## 4. Exploratory Data Analysis <a name='4'></a>"
   ]
  },
  {
   "cell_type": "markdown",
   "id": "55687c35-d8b9-4358-8efe-22c9e7a9f96e",
   "metadata": {
    "tags": []
   },
   "source": [
    "### Descriptive Statistics"
   ]
  },
  {
   "cell_type": "code",
   "execution_count": 8,
   "id": "9b466c78-f019-43ee-8018-19d6274928eb",
   "metadata": {},
   "outputs": [
    {
     "data": {
      "text/html": [
       "<div>\n",
       "<style scoped>\n",
       "    .dataframe tbody tr th:only-of-type {\n",
       "        vertical-align: middle;\n",
       "    }\n",
       "\n",
       "    .dataframe tbody tr th {\n",
       "        vertical-align: top;\n",
       "    }\n",
       "\n",
       "    .dataframe thead th {\n",
       "        text-align: right;\n",
       "    }\n",
       "</style>\n",
       "<table border=\"1\" class=\"dataframe\">\n",
       "  <thead>\n",
       "    <tr style=\"text-align: right;\">\n",
       "      <th></th>\n",
       "      <th>userid</th>\n",
       "      <th>sum_gamerounds</th>\n",
       "      <th>retention_1</th>\n",
       "      <th>retention_7</th>\n",
       "    </tr>\n",
       "    <tr>\n",
       "      <th>version</th>\n",
       "      <th></th>\n",
       "      <th></th>\n",
       "      <th></th>\n",
       "      <th></th>\n",
       "    </tr>\n",
       "  </thead>\n",
       "  <tbody>\n",
       "    <tr>\n",
       "      <th>gate_30</th>\n",
       "      <td>44700</td>\n",
       "      <td>44700</td>\n",
       "      <td>44700</td>\n",
       "      <td>44700</td>\n",
       "    </tr>\n",
       "    <tr>\n",
       "      <th>gate_40</th>\n",
       "      <td>45489</td>\n",
       "      <td>45489</td>\n",
       "      <td>45489</td>\n",
       "      <td>45489</td>\n",
       "    </tr>\n",
       "  </tbody>\n",
       "</table>\n",
       "</div>"
      ],
      "text/plain": [
       "         userid  sum_gamerounds  retention_1  retention_7\n",
       "version                                                  \n",
       "gate_30   44700           44700        44700        44700\n",
       "gate_40   45489           45489        45489        45489"
      ]
     },
     "metadata": {},
     "output_type": "display_data"
    },
    {
     "data": {
      "image/png": "[encoded data removed]",
      "text/plain": [
       "<Figure size 432x288 with 1 Axes>"
      ]
     },
     "metadata": {
      "needs_background": "light"
     },
     "output_type": "display_data"
    }
   ],
   "source": [
    "# Coount of players in control and treatment group w/ visualisation\n",
    "\n",
    "display(data.groupby('version').count())\n",
    "\n",
    "sns.countplot(x='version', data=data)\n",
    "plt.show()"
   ]
  },
  {
   "cell_type": "code",
   "execution_count": 9,
   "id": "54ec09e5-e7cd-407a-b0eb-ac3e12fa8a90",
   "metadata": {},
   "outputs": [
    {
     "name": "stdout",
     "output_type": "stream",
     "text": [
      "50.44% of users in control group\n",
      "49.56% of users in treatment group\n"
     ]
    }
   ],
   "source": [
    "# Percentage of players in control and treatment groups\n",
    "\n",
    "control, treatment = data['version'].value_counts()[0], data['version'].value_counts()[1]\n",
    "print(f'{control / data.shape[0] * 100:.2f}% of users in control group')\n",
    "print(f'{treatment / data.shape[0] * 100:.2f}% of users in treatment group')"
   ]
  },
  {
   "cell_type": "markdown",
   "id": "3268017e-223d-486f-a817-2c2173714d78",
   "metadata": {},
   "source": [
    "Spread of randomly assigned players looks even, though Sample Ratio Mismatch (SRM), could still be present. I will not be performing a SRM analysis, but this could be performed with a Chi-squared goodness of fit test."
   ]
  },
  {
   "cell_type": "code",
   "execution_count": 10,
   "id": "bff1fdf2-6ac7-493f-8689-c61128c5120f",
   "metadata": {},
   "outputs": [
    {
     "data": {
      "text/html": [
       "<div>\n",
       "<style scoped>\n",
       "    .dataframe tbody tr th:only-of-type {\n",
       "        vertical-align: middle;\n",
       "    }\n",
       "\n",
       "    .dataframe tbody tr th {\n",
       "        vertical-align: top;\n",
       "    }\n",
       "\n",
       "    .dataframe thead th {\n",
       "        text-align: right;\n",
       "    }\n",
       "</style>\n",
       "<table border=\"1\" class=\"dataframe\">\n",
       "  <thead>\n",
       "    <tr style=\"text-align: right;\">\n",
       "      <th></th>\n",
       "      <th>count</th>\n",
       "      <th>mean</th>\n",
       "      <th>std</th>\n",
       "      <th>min</th>\n",
       "      <th>25%</th>\n",
       "      <th>50%</th>\n",
       "      <th>75%</th>\n",
       "      <th>max</th>\n",
       "    </tr>\n",
       "  </thead>\n",
       "  <tbody>\n",
       "    <tr>\n",
       "      <th>sum_gamerounds</th>\n",
       "      <td>90189.000</td>\n",
       "      <td>51.872</td>\n",
       "      <td>195.051</td>\n",
       "      <td>0.000</td>\n",
       "      <td>5.000</td>\n",
       "      <td>16.000</td>\n",
       "      <td>51.000</td>\n",
       "      <td>49854.000</td>\n",
       "    </tr>\n",
       "  </tbody>\n",
       "</table>\n",
       "</div>"
      ],
      "text/plain": [
       "                   count   mean     std   min   25%    50%    75%       max\n",
       "sum_gamerounds 90189.000 51.872 195.051 0.000 5.000 16.000 51.000 49854.000"
      ]
     },
     "execution_count": 10,
     "metadata": {},
     "output_type": "execute_result"
    }
   ],
   "source": [
    "# Desptive statistics of the entire data set to get an idea of the distribution\n",
    "\n",
    "data[['sum_gamerounds']].describe().T"
   ]
  },
  {
   "cell_type": "code",
   "execution_count": 11,
   "id": "2f82a53c-2efd-408e-b658-fcc5659d8fb0",
   "metadata": {},
   "outputs": [
    {
     "data": {
      "text/html": [
       "<div>\n",
       "<style scoped>\n",
       "    .dataframe tbody tr th:only-of-type {\n",
       "        vertical-align: middle;\n",
       "    }\n",
       "\n",
       "    .dataframe tbody tr th {\n",
       "        vertical-align: top;\n",
       "    }\n",
       "\n",
       "    .dataframe thead th {\n",
       "        text-align: right;\n",
       "    }\n",
       "</style>\n",
       "<table border=\"1\" class=\"dataframe\">\n",
       "  <thead>\n",
       "    <tr style=\"text-align: right;\">\n",
       "      <th></th>\n",
       "      <th>count</th>\n",
       "      <th>mean</th>\n",
       "      <th>median</th>\n",
       "      <th>std</th>\n",
       "      <th>max</th>\n",
       "    </tr>\n",
       "    <tr>\n",
       "      <th>version</th>\n",
       "      <th></th>\n",
       "      <th></th>\n",
       "      <th></th>\n",
       "      <th></th>\n",
       "      <th></th>\n",
       "    </tr>\n",
       "  </thead>\n",
       "  <tbody>\n",
       "    <tr>\n",
       "      <th>gate_30</th>\n",
       "      <td>44700</td>\n",
       "      <td>52.456</td>\n",
       "      <td>17.000</td>\n",
       "      <td>256.716</td>\n",
       "      <td>49854</td>\n",
       "    </tr>\n",
       "    <tr>\n",
       "      <th>gate_40</th>\n",
       "      <td>45489</td>\n",
       "      <td>51.299</td>\n",
       "      <td>16.000</td>\n",
       "      <td>103.294</td>\n",
       "      <td>2640</td>\n",
       "    </tr>\n",
       "  </tbody>\n",
       "</table>\n",
       "</div>"
      ],
      "text/plain": [
       "         count   mean  median     std    max\n",
       "version                                     \n",
       "gate_30  44700 52.456  17.000 256.716  49854\n",
       "gate_40  45489 51.299  16.000 103.294   2640"
      ]
     },
     "execution_count": 11,
     "metadata": {},
     "output_type": "execute_result"
    }
   ],
   "source": [
    "# Grouped by control and treatment groups\n",
    "\n",
    "data.groupby('version')['sum_gamerounds'].agg(['count', 'mean', 'median', 'std', 'max'])"
   ]
  },
  {
   "cell_type": "markdown",
   "id": "40613584-3cfd-4a47-b296-64131f82f3f8",
   "metadata": {},
   "source": [
    "Looking at the two groups visually, we can see there is an outlier in the `gate_30` group. This will be skewing the data."
   ]
  },
  {
   "cell_type": "code",
   "execution_count": 12,
   "id": "8bc308b8-9aff-4b94-bde9-f7302d9dba18",
   "metadata": {},
   "outputs": [
    {
     "data": {
      "image/png": "[encoded data removed]",
      "text/plain": [
       "<Figure size 1152x288 with 4 Axes>"
      ]
     },
     "metadata": {
      "needs_background": "light"
     },
     "output_type": "display_data"
    }
   ],
   "source": [
    "fig, axes = plt.subplots(1, 4, figsize=(16, 4))\n",
    "\n",
    "sns.histplot(data['sum_gamerounds'], bins=100, ax=axes[0])\n",
    "sns.histplot(data[data['version'] == 'gate_30']['sum_gamerounds'], bins=100, ax=axes[1])\n",
    "sns.histplot(data[data['version'] == 'gate_40']['sum_gamerounds'], bins=100, ax=axes[2])\n",
    "sns.boxplot(x='version', y='sum_gamerounds', data=data, ax=axes[3])\n",
    "\n",
    "axes[0].set_title('Dist of sum_gamerounds')\n",
    "axes[1].set_title('Dist of Control (gate_30)')\n",
    "axes[2].set_title('Dist of Treatment (gate_40)')\n",
    "axes[3].set_title('Boxplot of Control and Treatment groups')\n",
    "plt.show()"
   ]
  },
  {
   "cell_type": "code",
   "execution_count": 13,
   "id": "14350ee0-c5bb-4f43-b249-68d7e98f9520",
   "metadata": {},
   "outputs": [
    {
     "data": {
      "text/plain": [
       "1    90188\n",
       "2        0\n",
       "3        0\n",
       "4        0\n",
       "5        1\n",
       "Name: sum_gamerounds, dtype: int64"
      ]
     },
     "execution_count": 13,
     "metadata": {},
     "output_type": "execute_result"
    }
   ],
   "source": [
    "# Binning sum_gamerounds into 5 arbitrary size bins to get a feel for how many outliers there are\n",
    "\n",
    "rounds_bins = pd.cut(data['sum_gamerounds'], 5, labels=[i+1 for i in range(5)])\n",
    "rounds_bins.value_counts().sort_index()"
   ]
  },
  {
   "cell_type": "markdown",
   "id": "c92d5d4a-f479-447c-8bf2-bb69eb8bb29b",
   "metadata": {},
   "source": [
    "This means that if the data was sorted into 5 arbitrary but equal bins by `sum_gamecount`, 90,188 of the values would be in bin one, and one value would be in bin five, with no values in bins two, three, or four. \n",
    "\n",
    "The data is telling us that a user played ~50,000 games in the first week after downloading, which if true, is kinda impressive. I am are going to remove the outlier."
   ]
  },
  {
   "cell_type": "code",
   "execution_count": 14,
   "id": "500dca4e-50e0-4cf8-b7f5-477f9d7caa07",
   "metadata": {},
   "outputs": [],
   "source": [
    "data = data[data['sum_gamerounds'] < data['sum_gamerounds'].max()]"
   ]
  },
  {
   "cell_type": "code",
   "execution_count": 15,
   "id": "d04a722a-c517-4bbf-9e8c-9eacc91c517e",
   "metadata": {},
   "outputs": [
    {
     "data": {
      "text/html": [
       "<div>\n",
       "<style scoped>\n",
       "    .dataframe tbody tr th:only-of-type {\n",
       "        vertical-align: middle;\n",
       "    }\n",
       "\n",
       "    .dataframe tbody tr th {\n",
       "        vertical-align: top;\n",
       "    }\n",
       "\n",
       "    .dataframe thead th {\n",
       "        text-align: right;\n",
       "    }\n",
       "</style>\n",
       "<table border=\"1\" class=\"dataframe\">\n",
       "  <thead>\n",
       "    <tr style=\"text-align: right;\">\n",
       "      <th></th>\n",
       "      <th>count</th>\n",
       "      <th>mean</th>\n",
       "      <th>std</th>\n",
       "      <th>min</th>\n",
       "      <th>25%</th>\n",
       "      <th>50%</th>\n",
       "      <th>75%</th>\n",
       "      <th>max</th>\n",
       "    </tr>\n",
       "  </thead>\n",
       "  <tbody>\n",
       "    <tr>\n",
       "      <th>userid</th>\n",
       "      <td>90188.000</td>\n",
       "      <td>4998396.798</td>\n",
       "      <td>2883297.866</td>\n",
       "      <td>116.000</td>\n",
       "      <td>2512211.250</td>\n",
       "      <td>4995804.000</td>\n",
       "      <td>7496460.750</td>\n",
       "      <td>9999861.000</td>\n",
       "    </tr>\n",
       "    <tr>\n",
       "      <th>sum_gamerounds</th>\n",
       "      <td>90188.000</td>\n",
       "      <td>51.320</td>\n",
       "      <td>102.683</td>\n",
       "      <td>0.000</td>\n",
       "      <td>5.000</td>\n",
       "      <td>16.000</td>\n",
       "      <td>51.000</td>\n",
       "      <td>2961.000</td>\n",
       "    </tr>\n",
       "  </tbody>\n",
       "</table>\n",
       "</div>"
      ],
      "text/plain": [
       "                   count        mean         std     min         25%  \\\n",
       "userid         90188.000 4998396.798 2883297.866 116.000 2512211.250   \n",
       "sum_gamerounds 90188.000      51.320     102.683   0.000       5.000   \n",
       "\n",
       "                       50%         75%         max  \n",
       "userid         4995804.000 7496460.750 9999861.000  \n",
       "sum_gamerounds      16.000      51.000    2961.000  "
      ]
     },
     "metadata": {},
     "output_type": "display_data"
    },
    {
     "data": {
      "text/html": [
       "<div>\n",
       "<style scoped>\n",
       "    .dataframe tbody tr th:only-of-type {\n",
       "        vertical-align: middle;\n",
       "    }\n",
       "\n",
       "    .dataframe tbody tr th {\n",
       "        vertical-align: top;\n",
       "    }\n",
       "\n",
       "    .dataframe thead th {\n",
       "        text-align: right;\n",
       "    }\n",
       "</style>\n",
       "<table border=\"1\" class=\"dataframe\">\n",
       "  <thead>\n",
       "    <tr style=\"text-align: right;\">\n",
       "      <th></th>\n",
       "      <th>count</th>\n",
       "      <th>mean</th>\n",
       "      <th>median</th>\n",
       "      <th>std</th>\n",
       "      <th>max</th>\n",
       "    </tr>\n",
       "    <tr>\n",
       "      <th>version</th>\n",
       "      <th></th>\n",
       "      <th></th>\n",
       "      <th></th>\n",
       "      <th></th>\n",
       "      <th></th>\n",
       "    </tr>\n",
       "  </thead>\n",
       "  <tbody>\n",
       "    <tr>\n",
       "      <th>gate_30</th>\n",
       "      <td>44699</td>\n",
       "      <td>51.342</td>\n",
       "      <td>17.000</td>\n",
       "      <td>102.058</td>\n",
       "      <td>2961</td>\n",
       "    </tr>\n",
       "    <tr>\n",
       "      <th>gate_40</th>\n",
       "      <td>45489</td>\n",
       "      <td>51.299</td>\n",
       "      <td>16.000</td>\n",
       "      <td>103.294</td>\n",
       "      <td>2640</td>\n",
       "    </tr>\n",
       "  </tbody>\n",
       "</table>\n",
       "</div>"
      ],
      "text/plain": [
       "         count   mean  median     std   max\n",
       "version                                    \n",
       "gate_30  44699 51.342  17.000 102.058  2961\n",
       "gate_40  45489 51.299  16.000 103.294  2640"
      ]
     },
     "metadata": {},
     "output_type": "display_data"
    }
   ],
   "source": [
    "# Checking descriptive stats of without outlier\n",
    "\n",
    "display(data.describe().T)\n",
    "display(data.groupby('version')['sum_gamerounds'].agg(['count', 'mean', 'median', 'std', 'max']))"
   ]
  },
  {
   "cell_type": "code",
   "execution_count": 16,
   "id": "7cf81edd-901a-4208-832f-ba00f3168707",
   "metadata": {},
   "outputs": [
    {
     "data": {
      "image/png": "[encoded data removed]",
      "text/plain": [
       "<Figure size 1152x288 with 4 Axes>"
      ]
     },
     "metadata": {
      "needs_background": "light"
     },
     "output_type": "display_data"
    }
   ],
   "source": [
    "# Re-plotting without outlier\n",
    "\n",
    "fig, axes = plt.subplots(1, 4, figsize=(16, 4))\n",
    "\n",
    "sns.histplot(data['sum_gamerounds'], bins=100, ax=axes[0])\n",
    "sns.histplot(data[data['version'] == 'gate_30']['sum_gamerounds'], bins=100, ax=axes[1])\n",
    "sns.histplot(data[data['version'] == 'gate_40']['sum_gamerounds'], bins=100, ax=axes[2])\n",
    "sns.boxplot(x='version', y='sum_gamerounds', data=data, ax=axes[3])\n",
    "\n",
    "axes[0].set_title('Dist of sum_gamerounds')\n",
    "axes[1].set_title('Dist of Control (gate_30)')\n",
    "axes[2].set_title('Dist of Treatment (gate_40)')\n",
    "axes[3].set_title('Boxplot of Control and Treatment groups')\n",
    "plt.show()"
   ]
  },
  {
   "cell_type": "markdown",
   "id": "14c90487-ad2b-460d-b743-c8f82fa51cf4",
   "metadata": {},
   "source": [
    "Boxplots and some stats (mean, std) look more representative of the sample. There is still a skew to the data that we will investigate."
   ]
  },
  {
   "cell_type": "markdown",
   "id": "58efc1b6-8231-47d8-a703-84a2fb3dee4a",
   "metadata": {},
   "source": [
    "### 4.1 Player Behaviour - Game Rounds Played <a name ='4.1'></a>\n",
    "\n",
    "The distributions still look heavily skewed, we'll look at some player behaviour.\n",
    "\n",
    "Starting with the number of players to reach n rounds and a cumulative sum."
   ]
  },
  {
   "cell_type": "code",
   "execution_count": 17,
   "id": "22e71f46-d5dd-4f92-8b43-1f2f6c013a07",
   "metadata": {},
   "outputs": [],
   "source": [
    "# Cumulative sum\n",
    "\n",
    "game_rounds = data.groupby('sum_gamerounds')['userid'].agg(['count']).reset_index()\n",
    "game_rounds['percent_count'] = game_rounds['count'] / data.shape[0] * 100\n",
    "game_rounds['cumsum'] = game_rounds['count'].cumsum()\n",
    "game_rounds['percent_cumsum'] = game_rounds['cumsum'] / data.shape[0] * 100"
   ]
  },
  {
   "cell_type": "code",
   "execution_count": 28,
   "id": "a3f359db-cb88-412e-8057-30cc603293f1",
   "metadata": {},
   "outputs": [
    {
     "data": {
      "text/html": [
       "<div>\n",
       "<style scoped>\n",
       "    .dataframe tbody tr th:only-of-type {\n",
       "        vertical-align: middle;\n",
       "    }\n",
       "\n",
       "    .dataframe tbody tr th {\n",
       "        vertical-align: top;\n",
       "    }\n",
       "\n",
       "    .dataframe thead th {\n",
       "        text-align: right;\n",
       "    }\n",
       "</style>\n",
       "<table border=\"1\" class=\"dataframe\">\n",
       "  <thead>\n",
       "    <tr style=\"text-align: right;\">\n",
       "      <th></th>\n",
       "      <th>sum_gamerounds</th>\n",
       "      <th>count</th>\n",
       "      <th>percent_count</th>\n",
       "      <th>cumsum</th>\n",
       "      <th>percent_cumsum</th>\n",
       "    </tr>\n",
       "  </thead>\n",
       "  <tbody>\n",
       "    <tr>\n",
       "      <th>0</th>\n",
       "      <td>0</td>\n",
       "      <td>3994</td>\n",
       "      <td>4.429</td>\n",
       "      <td>3994</td>\n",
       "      <td>4.429</td>\n",
       "    </tr>\n",
       "    <tr>\n",
       "      <th>1</th>\n",
       "      <td>1</td>\n",
       "      <td>5538</td>\n",
       "      <td>6.141</td>\n",
       "      <td>9532</td>\n",
       "      <td>10.569</td>\n",
       "    </tr>\n",
       "    <tr>\n",
       "      <th>2</th>\n",
       "      <td>2</td>\n",
       "      <td>4606</td>\n",
       "      <td>5.107</td>\n",
       "      <td>14138</td>\n",
       "      <td>15.676</td>\n",
       "    </tr>\n",
       "    <tr>\n",
       "      <th>3</th>\n",
       "      <td>3</td>\n",
       "      <td>3958</td>\n",
       "      <td>4.389</td>\n",
       "      <td>18096</td>\n",
       "      <td>20.065</td>\n",
       "    </tr>\n",
       "    <tr>\n",
       "      <th>4</th>\n",
       "      <td>4</td>\n",
       "      <td>3629</td>\n",
       "      <td>4.024</td>\n",
       "      <td>21725</td>\n",
       "      <td>24.089</td>\n",
       "    </tr>\n",
       "    <tr>\n",
       "      <th>5</th>\n",
       "      <td>5</td>\n",
       "      <td>2992</td>\n",
       "      <td>3.318</td>\n",
       "      <td>24717</td>\n",
       "      <td>27.406</td>\n",
       "    </tr>\n",
       "    <tr>\n",
       "      <th>6</th>\n",
       "      <td>6</td>\n",
       "      <td>2861</td>\n",
       "      <td>3.172</td>\n",
       "      <td>27578</td>\n",
       "      <td>30.578</td>\n",
       "    </tr>\n",
       "    <tr>\n",
       "      <th>7</th>\n",
       "      <td>7</td>\n",
       "      <td>2379</td>\n",
       "      <td>2.638</td>\n",
       "      <td>29957</td>\n",
       "      <td>33.216</td>\n",
       "    </tr>\n",
       "    <tr>\n",
       "      <th>8</th>\n",
       "      <td>8</td>\n",
       "      <td>2267</td>\n",
       "      <td>2.514</td>\n",
       "      <td>32224</td>\n",
       "      <td>35.730</td>\n",
       "    </tr>\n",
       "    <tr>\n",
       "      <th>9</th>\n",
       "      <td>9</td>\n",
       "      <td>2013</td>\n",
       "      <td>2.232</td>\n",
       "      <td>34237</td>\n",
       "      <td>37.962</td>\n",
       "    </tr>\n",
       "    <tr>\n",
       "      <th>10</th>\n",
       "      <td>10</td>\n",
       "      <td>1752</td>\n",
       "      <td>1.943</td>\n",
       "      <td>35989</td>\n",
       "      <td>39.904</td>\n",
       "    </tr>\n",
       "    <tr>\n",
       "      <th>11</th>\n",
       "      <td>11</td>\n",
       "      <td>1654</td>\n",
       "      <td>1.834</td>\n",
       "      <td>37643</td>\n",
       "      <td>41.738</td>\n",
       "    </tr>\n",
       "    <tr>\n",
       "      <th>12</th>\n",
       "      <td>12</td>\n",
       "      <td>1570</td>\n",
       "      <td>1.741</td>\n",
       "      <td>39213</td>\n",
       "      <td>43.479</td>\n",
       "    </tr>\n",
       "    <tr>\n",
       "      <th>13</th>\n",
       "      <td>13</td>\n",
       "      <td>1594</td>\n",
       "      <td>1.767</td>\n",
       "      <td>40807</td>\n",
       "      <td>45.247</td>\n",
       "    </tr>\n",
       "    <tr>\n",
       "      <th>14</th>\n",
       "      <td>14</td>\n",
       "      <td>1519</td>\n",
       "      <td>1.684</td>\n",
       "      <td>42326</td>\n",
       "      <td>46.931</td>\n",
       "    </tr>\n",
       "    <tr>\n",
       "      <th>15</th>\n",
       "      <td>15</td>\n",
       "      <td>1446</td>\n",
       "      <td>1.603</td>\n",
       "      <td>43772</td>\n",
       "      <td>48.534</td>\n",
       "    </tr>\n",
       "    <tr>\n",
       "      <th>16</th>\n",
       "      <td>16</td>\n",
       "      <td>1342</td>\n",
       "      <td>1.488</td>\n",
       "      <td>45114</td>\n",
       "      <td>50.022</td>\n",
       "    </tr>\n",
       "    <tr>\n",
       "      <th>17</th>\n",
       "      <td>17</td>\n",
       "      <td>1269</td>\n",
       "      <td>1.407</td>\n",
       "      <td>46383</td>\n",
       "      <td>51.429</td>\n",
       "    </tr>\n",
       "    <tr>\n",
       "      <th>18</th>\n",
       "      <td>18</td>\n",
       "      <td>1228</td>\n",
       "      <td>1.362</td>\n",
       "      <td>47611</td>\n",
       "      <td>52.791</td>\n",
       "    </tr>\n",
       "    <tr>\n",
       "      <th>19</th>\n",
       "      <td>19</td>\n",
       "      <td>1158</td>\n",
       "      <td>1.284</td>\n",
       "      <td>48769</td>\n",
       "      <td>54.075</td>\n",
       "    </tr>\n",
       "  </tbody>\n",
       "</table>\n",
       "</div>"
      ],
      "text/plain": [
       "    sum_gamerounds  count  percent_count  cumsum  percent_cumsum\n",
       "0                0   3994          4.429    3994           4.429\n",
       "1                1   5538          6.141    9532          10.569\n",
       "2                2   4606          5.107   14138          15.676\n",
       "3                3   3958          4.389   18096          20.065\n",
       "4                4   3629          4.024   21725          24.089\n",
       "5                5   2992          3.318   24717          27.406\n",
       "6                6   2861          3.172   27578          30.578\n",
       "7                7   2379          2.638   29957          33.216\n",
       "8                8   2267          2.514   32224          35.730\n",
       "9                9   2013          2.232   34237          37.962\n",
       "10              10   1752          1.943   35989          39.904\n",
       "11              11   1654          1.834   37643          41.738\n",
       "12              12   1570          1.741   39213          43.479\n",
       "13              13   1594          1.767   40807          45.247\n",
       "14              14   1519          1.684   42326          46.931\n",
       "15              15   1446          1.603   43772          48.534\n",
       "16              16   1342          1.488   45114          50.022\n",
       "17              17   1269          1.407   46383          51.429\n",
       "18              18   1228          1.362   47611          52.791\n",
       "19              19   1158          1.284   48769          54.075"
      ]
     },
     "execution_count": 28,
     "metadata": {},
     "output_type": "execute_result"
    }
   ],
   "source": [
    "game_rounds.head(20)"
   ]
  },
  {
   "cell_type": "markdown",
   "id": "2dd5b322-950f-483b-adf9-04bc849b3f1b",
   "metadata": {},
   "source": [
    "Looking graphically at the a distribution of players who played between 0 and 100 game rounds (~86 of the sample)"
   ]
  },
  {
   "cell_type": "code",
   "execution_count": 29,
   "id": "21a3ffce-5993-4862-9eed-d58412ebe399",
   "metadata": {},
   "outputs": [
    {
     "data": {
      "image/png": "[encoded data removed]",
      "text/plain": [
       "<Figure size 1152x288 with 1 Axes>"
      ]
     },
     "metadata": {
      "needs_background": "light"
     },
     "output_type": "display_data"
    }
   ],
   "source": [
    "ax = game_rounds[:100].plot(x='sum_gamerounds', y='count', legend=False, figsize=(16,4))\n",
    "ax.set_xlabel('Game Rounds Played')\n",
    "ax.set_ylabel('Count of Players')\n",
    "plt.show()"
   ]
  },
  {
   "cell_type": "markdown",
   "id": "f5372093-c825-4b37-9941-99ad93632e94",
   "metadata": {},
   "source": [
    "### Observations on rounds played\n",
    "\n",
    "The number of players decreases with as the levels increase. The exception is that a number of players installed the game and did not complete a level. All values are with respect to the week after installation.\n",
    "- 3,994 (~4.4%) players did not play the game\n",
    "- ~27.4% of players played five or less rounds\n",
    "- 50% of players played 16 or less rounds\n",
    "- 75% of players played less than 50 rounds\n",
    "\n",
    "These values can be explored by themselves, especially the 3,994 players installing the game and not playing in the week following installation, in addition to over a quarter of players in the sample playing 5 rounds or less in the week following installation. Possible reasons may include but aren't limited to:\n",
    "- Players didn't like the game (mechanics/aesthetics/music).\n",
    "- Difficulty increased as levels progressed and locked players out.\n",
    "- Dodn't like the free-mium model.\n",
    "- Product was not as advertised.\n",
    "- Players haven't had an opportunity to play the game.\n",
    "\n",
    "With churn happening at relatively low number of rounds played, there is an opportunity to increase retention. Fact finding (exit surveys) and incentives could lead to higher retention rates. More research is required."
   ]
  },
  {
   "cell_type": "markdown",
   "id": "928b1f78-2d92-40c3-a2a8-e141dbd67e13",
   "metadata": {},
   "source": [
    "### 4.2 Player Behaviour - Retention <a name ='4.2'></a>"
   ]
  },
  {
   "cell_type": "code",
   "execution_count": null,
   "id": "888664ff-ff57-4e8a-b867-1fb6a5878de5",
   "metadata": {},
   "outputs": [],
   "source": []
  },
  {
   "cell_type": "code",
   "execution_count": null,
   "id": "b1797e4e-06d2-4ad2-b210-81248c5c3697",
   "metadata": {},
   "outputs": [],
   "source": []
  },
  {
   "cell_type": "code",
   "execution_count": null,
   "id": "2d05facc-9b97-4f33-8f1e-1ef22279ac61",
   "metadata": {},
   "outputs": [],
   "source": []
  }
 ],
 "metadata": {
  "kernelspec": {
   "display_name": "Python 3 (ipykernel)",
   "language": "python",
   "name": "python3"
  },
  "language_info": {
   "codemirror_mode": {
    "name": "ipython",
    "version": 3
   },
   "file_extension": ".py",
   "mimetype": "text/x-python",
   "name": "python",
   "nbconvert_exporter": "python",
   "pygments_lexer": "ipython3",
   "version": "3.8.12"
  }
 },
 "nbformat": 4,
 "nbformat_minor": 5
}
