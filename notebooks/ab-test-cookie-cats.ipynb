{
 "cells": [
  {
   "cell_type": "markdown",
   "id": "00bef3b7-869f-4156-914f-2b0a1c40548e",
   "metadata": {},
   "source": [
    "# A/B Testing: Player Retention for Mobile Game\n",
    "\n",
    "🍪 🐈 🍪 🐈 🍪 🐈\n",
    "\n",
    "## Table of Contents\n",
    "\n",
    "- [1. Intorduction and Context](#1)\n",
    "- [2. Imports and Helpers](#2)\n",
    "- [3. Data](#3)\n",
    "- [4. Exploratory Data Analysis](#4)\n",
    "    - [4.1. Game Rounds Played](#4.1)\n",
    "    - [4.2. Retention](#4.2)\n",
    "- [5. AB Tests](#5)\n",
    "    - [5.1. Day 1 Retention](#5.1)\n",
    "        - [5.1.1. Bootstrapping](#5.1.1)\n",
    "        - [5.1.2. Proportional z-test](#5.1.2)\n",
    "    - [5.2. Day 7 Retention](#5.2)\n",
    "        - [5.2.1. Bootstrapping](#5.2.1)\n",
    "        - [5.2.2. Proportional z-test](#5.2.2)\n",
    "    - [5.3. Game Rounds](#5.3)\n",
    "        - [5.3.1. Bootstrapping](#5.3.1)\n",
    "        - [5.3.2. Mann-Whitney U test](#5.3.2)\n",
    "- [6. Conclusion](#6)"
   ]
  },
  {
   "cell_type": "markdown",
   "id": "540fd7c0-d8f7-43c9-94d8-fda8d5bfde23",
   "metadata": {},
   "source": [
    "# 1. Introduction and Context <a name='1'></a>"
   ]
  },
  {
   "cell_type": "markdown",
   "id": "ad1a6087-2744-4ee1-aef1-3ff33e42b71d",
   "metadata": {},
   "source": [
    "This is a [mini project](datacamp.com/projects/184) from [DataCamp](datacamp.com). \n",
    "\n",
    "## Project Description from DataCamp:\n",
    "\n",
    "[Cookie Cats](https://tactilegames.com/cookie-cats/) is a hugely popular mobile puzzle game developed by [Tactile Entertainment](https://tactilegames.com). It's a classic \"connect three\" style puzzle game where the player must connect tiles of the same color in order to clear the board and win the level. It also features singing cats. We're not kidding!\n",
    "\n",
    "**As players progress through the game they will encounter gates that force them to wait some time before they can progress or alternatively make an in-app purchase to progress. In this project, we will analyze the result of an A/B test where the first gate in Cookie Cats was moved from level 30 to level 40. In particular, we will analyze the impact on player retention.**\n",
    "\n",
    "🍪 🐈 🍪 🐈 🍪 🐈\n",
    "\n",
    "## Problem Statement\n",
    "\n",
    "Should the proposed gate at Level 40 be implemented over the existing gate at Level 30 based on day 1 and 7 player retention rates.\n",
    "\n",
    "## Data Descriptions\n",
    "\n",
    "The dataset contains is from 90,189 players that installed the game while the AB Test was running. \n",
    "\n",
    "Dataset labels:\n",
    "- `userid` - `int` - unique player identifier.\n",
    "- `version` - `str` - group the player was randomly assigned to: control (`gate_30` .- gate at Level 30) or treatment (`gate_40` - gate at Level 40).\n",
    "- `sum_gamerounds` - `int` - total number of games played by the player during the first week after installation.\n",
    "- `retention_1` - `bool` - `True` if the player played 1 day after installing else `False`.\n",
    "- `retention_7` - `bool` - `True` if the player played 7 days after installing else `False`."
   ]
  },
  {
   "cell_type": "markdown",
   "id": "bcabe474-1e2f-4dab-b89c-7b712a883b71",
   "metadata": {},
   "source": [
    "# 2. Imports and Helpers<a name='2'></a>"
   ]
  },
  {
   "cell_type": "code",
   "execution_count": 1,
   "id": "e2ec548c-2ca3-439c-9c06-ef33d8f4f0d4",
   "metadata": {},
   "outputs": [],
   "source": [
    "# PyData\n",
    "import numpy as np\n",
    "import pandas as pd\n",
    "import matplotlib.pyplot as plt\n",
    "import seaborn as sns\n",
    "import os\n",
    "\n",
    "# Hypothesis Testing\n",
    "import scipy.stats as stats\n",
    "from statsmodels.stats.proportion import proportions_ztest"
   ]
  },
  {
   "cell_type": "code",
   "execution_count": 2,
   "id": "06b9e263-2ede-4de7-ac24-0fd8238b0c28",
   "metadata": {},
   "outputs": [],
   "source": [
    "# Global Formatting and rendering\n",
    "%matplotlib inline\n",
    "pd.options.display.float_format = '{:.3f}'.format\n",
    "sns.set_palette('colorblind')"
   ]
  },
  {
   "cell_type": "code",
   "execution_count": 3,
   "id": "c1f5b0c0-7a97-4574-8c69-c5d212ee638c",
   "metadata": {},
   "outputs": [],
   "source": [
    "# Helper Functions\n",
    "\n",
    "def infoplus(df):\n",
    "    '''Returns an expanded form of pandas .info() to include,\n",
    "    shape, null count, null% and unique count'''\n",
    "    infod = {'col_ind': [], 'col_name': [], 'non_null': [], 'null': [],\n",
    "             'null_per': [], 'unique': [],'dtype': []}\n",
    "    max_len = []\n",
    "\n",
    "    for i, col in enumerate(df.columns):\n",
    "        infod['col_ind'].append(i)\n",
    "        infod['col_name'].append(col)\n",
    "        infod['non_null'].append(df[col].value_counts().sum())\n",
    "        infod['null'].append(df[col].isna().sum())\n",
    "        infod['null_per'].append(round(infod['null'][-1] / len(df), 5))\n",
    "        infod['unique'].append(len(df[col].unique()))\n",
    "        infod['dtype'].append(str(df[col].dtype))\n",
    "\n",
    "    for key in infod.keys():\n",
    "        max_len.append(len(max(map(str, infod[key]), key=len)))\n",
    "    for i, key in enumerate(infod.keys()):\n",
    "        max_len[i] = max(len(key), max_len[i])\n",
    "    if max_len[4] > 6:\n",
    "        max_len[4] = 6\n",
    "\n",
    "    OFFSET = 2\n",
    "    print(type(df))\n",
    "    print(f'Range Index: {len(df)} entries, {df.index[0]} to {df.index[-1]}')\n",
    "    print(f'Shape: {df.shape}')\n",
    "    print(f'''\\\n",
    "{'#': ^{max_len[0] + OFFSET - 2}}\\\n",
    "{'Column': <{max_len[1]}}\\\n",
    "{'Non-Null': >{max_len[2] + OFFSET}}\\\n",
    "{'Null': >{max_len[3] + OFFSET}}\\\n",
    "{'% Null': >{max_len[4] + OFFSET}}\\\n",
    "{'Unique': >{max_len[5] + OFFSET}}  \\\n",
    "{'dtype': <{max_len[6] + OFFSET}}\\\n",
    "''')\n",
    "    print(f'''\\\n",
    "{'-' * (max(3, max_len[0]) - 2): ^{max_len[0] + OFFSET - 2}}\\\n",
    "{'-' * max_len[1]: <{max_len[1]}}\\\n",
    "{'-' * max_len[2]: >{max_len[2] + OFFSET}}\\\n",
    "{'-' * max_len[3]: >{max_len[3] + OFFSET}}\\\n",
    "{'-' * max_len[4]: >{max_len[4] + OFFSET}}\\\n",
    "{'-' * max_len[5]: >{max_len[5] + OFFSET}}  \\\n",
    "{'-' * max_len[6]: <{max_len[6] + OFFSET}}\\\n",
    "''')\n",
    "    for i in infod['col_ind']:\n",
    "        print(f'''{str(infod['col_ind'][i]): ^{max(3, max_len[0] + OFFSET - 2)}}\\\n",
    "{infod['col_name'][i]: <{max_len[1]}}\\\n",
    "{infod['non_null'][i]: >{max_len[2] + OFFSET}}\\\n",
    "{infod['null'][i]: >{max_len[3] + OFFSET}}\\\n",
    "{f\"{infod['null_per'][i] * 100: .2f}\": >{max_len[4] + OFFSET}}\\\n",
    "{infod['unique'][i]: >{max_len[5] + OFFSET}}  \\\n",
    "{infod['dtype'][i]: <{max_len[6] + OFFSET}}\\\n",
    "              ''')\n",
    "    \n",
    "    dtypes = [dtype for dtype in set(infod['dtype'])]\n",
    "    for dtype in dtypes:\n",
    "        dtype_count = [f\"{dtype}({infod['dtype'].count(dtype)})\" for dtype in dtypes]\n",
    "    print(f\"dtypes: {', '.join(dtype_count)}\")\n",
    "    print(f'memory usage: {byte_conversion(df.memory_usage().sum())}')\n",
    "    \n",
    "# Helper\n",
    "def byte_conversion(df_mem):\n",
    "    '''Converts bytes to readable magnitude, used in infoplus()'''\n",
    "    ending_dict = {1: 'B', 2: 'KB', 3: 'MB', 4: 'GB'}\n",
    "    power = 1\n",
    "    while df_mem / (1024 ** power) > 1:\n",
    "        power += 1\n",
    "        if power == 4:\n",
    "            break\n",
    "    return f'{df_mem / (1024 ** (power - 1)): .2f} {ending_dict[power]}'"
   ]
  },
  {
   "cell_type": "markdown",
   "id": "e7d44fc4-23db-41ff-a417-b663ce12f3d3",
   "metadata": {},
   "source": [
    "# 3. Data <a name='3'></a>"
   ]
  },
  {
   "cell_type": "code",
   "execution_count": 4,
   "id": "cc384d51-1a72-4b26-9235-9366ec156fdf",
   "metadata": {},
   "outputs": [
    {
     "data": {
      "text/html": [
       "<div>\n",
       "<style scoped>\n",
       "    .dataframe tbody tr th:only-of-type {\n",
       "        vertical-align: middle;\n",
       "    }\n",
       "\n",
       "    .dataframe tbody tr th {\n",
       "        vertical-align: top;\n",
       "    }\n",
       "\n",
       "    .dataframe thead th {\n",
       "        text-align: right;\n",
       "    }\n",
       "</style>\n",
       "<table border=\"1\" class=\"dataframe\">\n",
       "  <thead>\n",
       "    <tr style=\"text-align: right;\">\n",
       "      <th></th>\n",
       "      <th>userid</th>\n",
       "      <th>version</th>\n",
       "      <th>sum_gamerounds</th>\n",
       "      <th>retention_1</th>\n",
       "      <th>retention_7</th>\n",
       "    </tr>\n",
       "  </thead>\n",
       "  <tbody>\n",
       "    <tr>\n",
       "      <th>0</th>\n",
       "      <td>116</td>\n",
       "      <td>gate_30</td>\n",
       "      <td>3</td>\n",
       "      <td>False</td>\n",
       "      <td>False</td>\n",
       "    </tr>\n",
       "    <tr>\n",
       "      <th>1</th>\n",
       "      <td>337</td>\n",
       "      <td>gate_30</td>\n",
       "      <td>38</td>\n",
       "      <td>True</td>\n",
       "      <td>False</td>\n",
       "    </tr>\n",
       "    <tr>\n",
       "      <th>2</th>\n",
       "      <td>377</td>\n",
       "      <td>gate_40</td>\n",
       "      <td>165</td>\n",
       "      <td>True</td>\n",
       "      <td>False</td>\n",
       "    </tr>\n",
       "    <tr>\n",
       "      <th>3</th>\n",
       "      <td>483</td>\n",
       "      <td>gate_40</td>\n",
       "      <td>1</td>\n",
       "      <td>False</td>\n",
       "      <td>False</td>\n",
       "    </tr>\n",
       "    <tr>\n",
       "      <th>4</th>\n",
       "      <td>488</td>\n",
       "      <td>gate_40</td>\n",
       "      <td>179</td>\n",
       "      <td>True</td>\n",
       "      <td>True</td>\n",
       "    </tr>\n",
       "  </tbody>\n",
       "</table>\n",
       "</div>"
      ],
      "text/plain": [
       "   userid  version  sum_gamerounds  retention_1  retention_7\n",
       "0     116  gate_30               3        False        False\n",
       "1     337  gate_30              38         True        False\n",
       "2     377  gate_40             165         True        False\n",
       "3     483  gate_40               1        False        False\n",
       "4     488  gate_40             179         True         True"
      ]
     },
     "execution_count": 4,
     "metadata": {},
     "output_type": "execute_result"
    }
   ],
   "source": [
    "data = pd.read_csv('../input/mobile-games-ab-testing/cookie_cats.csv')\n",
    "\n",
    "data.head()"
   ]
  },
  {
   "cell_type": "code",
   "execution_count": 5,
   "id": "f533ce9e-7a5e-43cc-98f1-31376987f7a0",
   "metadata": {},
   "outputs": [
    {
     "name": "stdout",
     "output_type": "stream",
     "text": [
      "<class 'pandas.core.frame.DataFrame'>\n",
      "Range Index: 90189 entries, 0 to 90188\n",
      "Shape: (90189, 5)\n",
      "   #   Column          Non-Null  Null  % Null  Unique  dtype   \n",
      " ----- --------------  --------  ----  ------  ------  ------  \n",
      "   0   userid             90189     0    0.00   90189  int64                 \n",
      "   1   version            90189     0    0.00       2  object                \n",
      "   2   sum_gamerounds     90189     0    0.00     942  int64                 \n",
      "   3   retention_1        90189     0    0.00       2  bool                  \n",
      "   4   retention_7        90189     0    0.00       2  bool                  \n",
      "dtypes: bool(2), object(1), int64(2)\n",
      "memory usage:  2.24 MB\n"
     ]
    }
   ],
   "source": [
    "# Check dataframe shape, null counts and unique values, datatypes\n",
    "infoplus(data)"
   ]
  },
  {
   "cell_type": "code",
   "execution_count": 6,
   "id": "6631571d-cff0-4645-8eb3-a3221bb3274c",
   "metadata": {},
   "outputs": [
    {
     "data": {
      "text/plain": [
       "False"
      ]
     },
     "execution_count": 6,
     "metadata": {},
     "output_type": "execute_result"
    }
   ],
   "source": [
    "rows = {'rows': False}\n",
    "\n",
    "list(rows.values())[0]"
   ]
  },
  {
   "cell_type": "code",
   "execution_count": 7,
   "id": "0f97cc90-b280-4276-b87e-063c2ad13c97",
   "metadata": {},
   "outputs": [
    {
     "name": "stdout",
     "output_type": "stream",
     "text": [
      "No duplicate rows present.\n",
      "No duplicate users present.\n"
     ]
    },
    {
     "data": {
      "text/plain": [
       "(True, True)"
      ]
     },
     "execution_count": 7,
     "metadata": {},
     "output_type": "execute_result"
    }
   ],
   "source": [
    "# Check duplicates within data frame and duplicated users\n",
    "def duplicated_rows_check(df):\n",
    "    rows = {'name' : 'rows', 'value': False}\n",
    "    users = {'name' : 'users', 'value': False}\n",
    "    if df.duplicated().sum() == 0:\n",
    "        rows['value'] = True\n",
    "    if df['userid'].duplicated().sum() == 0:\n",
    "        users['value'] = True\n",
    "    for check in [rows, users]:\n",
    "        print(f\"No duplicate {check['name']} present.\" if check['value'] == True\n",
    "              else f\"Duplicate {check['name']} present.\")\n",
    "    return rows['value'], users['value']\n",
    "    \n",
    "duplicated_rows_check(data)"
   ]
  },
  {
   "cell_type": "markdown",
   "id": "55687c35-d8b9-4358-8efe-22c9e7a9f96e",
   "metadata": {
    "tags": []
   },
   "source": [
    "### Dataset Balance"
   ]
  },
  {
   "cell_type": "code",
   "execution_count": 8,
   "id": "9b466c78-f019-43ee-8018-19d6274928eb",
   "metadata": {},
   "outputs": [
    {
     "data": {
      "text/html": [
       "<div>\n",
       "<style scoped>\n",
       "    .dataframe tbody tr th:only-of-type {\n",
       "        vertical-align: middle;\n",
       "    }\n",
       "\n",
       "    .dataframe tbody tr th {\n",
       "        vertical-align: top;\n",
       "    }\n",
       "\n",
       "    .dataframe thead th {\n",
       "        text-align: right;\n",
       "    }\n",
       "</style>\n",
       "<table border=\"1\" class=\"dataframe\">\n",
       "  <thead>\n",
       "    <tr style=\"text-align: right;\">\n",
       "      <th></th>\n",
       "      <th>userid</th>\n",
       "      <th>sum_gamerounds</th>\n",
       "      <th>retention_1</th>\n",
       "      <th>retention_7</th>\n",
       "    </tr>\n",
       "    <tr>\n",
       "      <th>version</th>\n",
       "      <th></th>\n",
       "      <th></th>\n",
       "      <th></th>\n",
       "      <th></th>\n",
       "    </tr>\n",
       "  </thead>\n",
       "  <tbody>\n",
       "    <tr>\n",
       "      <th>gate_30</th>\n",
       "      <td>44700</td>\n",
       "      <td>44700</td>\n",
       "      <td>44700</td>\n",
       "      <td>44700</td>\n",
       "    </tr>\n",
       "    <tr>\n",
       "      <th>gate_40</th>\n",
       "      <td>45489</td>\n",
       "      <td>45489</td>\n",
       "      <td>45489</td>\n",
       "      <td>45489</td>\n",
       "    </tr>\n",
       "  </tbody>\n",
       "</table>\n",
       "</div>"
      ],
      "text/plain": [
       "         userid  sum_gamerounds  retention_1  retention_7\n",
       "version                                                  \n",
       "gate_30   44700           44700        44700        44700\n",
       "gate_40   45489           45489        45489        45489"
      ]
     },
     "metadata": {},
     "output_type": "display_data"
    },
    {
     "data": {
      "image/png": "[encoded data removed]",
      "text/plain": [
       "<Figure size 432x288 with 1 Axes>"
      ]
     },
     "metadata": {
      "needs_background": "light"
     },
     "output_type": "display_data"
    }
   ],
   "source": [
    "# Coount of players in control and treatment group w/ visualisation\n",
    "\n",
    "display(data.groupby('version').count())\n",
    "\n",
    "sns.countplot(x='version', data=data)\n",
    "plt.show()"
   ]
  },
  {
   "cell_type": "code",
   "execution_count": 9,
   "id": "54ec09e5-e7cd-407a-b0eb-ac3e12fa8a90",
   "metadata": {},
   "outputs": [
    {
     "name": "stdout",
     "output_type": "stream",
     "text": [
      "50.44% of users in control group\n",
      "49.56% of users in treatment group\n"
     ]
    }
   ],
   "source": [
    "# Percentage of players in control and treatment groups\n",
    "\n",
    "control, treatment = data['version'].value_counts()[0], data['version'].value_counts()[1]\n",
    "print(f'{control / data.shape[0] * 100:.2f}% of users in control group')\n",
    "print(f'{treatment / data.shape[0] * 100:.2f}% of users in treatment group')"
   ]
  },
  {
   "cell_type": "markdown",
   "id": "3268017e-223d-486f-a817-2c2173714d78",
   "metadata": {},
   "source": [
    "Spread of randomly assigned players looks even, though Sample Ratio Mismatch (SRM), could still be present. I will not be performing a SRM analysis, but this could be performed with a Chi-squared goodness of fit test."
   ]
  },
  {
   "cell_type": "markdown",
   "id": "5cc26698-66aa-4731-bf18-1c87281f5d9c",
   "metadata": {
    "tags": []
   },
   "source": [
    "Observations:\n",
    "- There are no null values.\n",
    "- `version`, `retention_1` and `retention_7` have binary values as expected.\n",
    "- There are no duplicate entries or duplicated users.\n",
    "- The dataset looks relatively balanced.\n",
    "- Data is generally clean and ready to use."
   ]
  },
  {
   "cell_type": "markdown",
   "id": "ee2f7125-799c-4b13-b4df-c1f6a50384ce",
   "metadata": {},
   "source": [
    "# 4. Exploratory Data Analysis <a name='4'></a>"
   ]
  },
  {
   "cell_type": "markdown",
   "id": "6145c6c7-0e70-4ae1-a65c-e32ae53ff9ae",
   "metadata": {},
   "source": [
    "There are two primary explanations that we can perform, the first with the number of game rounds played and the second with the 1 and 7 day retention rates."
   ]
  },
  {
   "cell_type": "markdown",
   "id": "b56f4be5-4914-4848-bfed-d5cdea529856",
   "metadata": {
    "tags": []
   },
   "source": [
    "## 4.1 EDA - Game Rounds Played <a name ='4.1'></a>\n",
    "\n",
    "Lets look at the `sum_gamerounds` played for each player, first as a whole of the dataset and then by experiment group."
   ]
  },
  {
   "cell_type": "code",
   "execution_count": 10,
   "id": "bff1fdf2-6ac7-493f-8689-c61128c5120f",
   "metadata": {},
   "outputs": [
    {
     "data": {
      "text/html": [
       "<div>\n",
       "<style scoped>\n",
       "    .dataframe tbody tr th:only-of-type {\n",
       "        vertical-align: middle;\n",
       "    }\n",
       "\n",
       "    .dataframe tbody tr th {\n",
       "        vertical-align: top;\n",
       "    }\n",
       "\n",
       "    .dataframe thead th {\n",
       "        text-align: right;\n",
       "    }\n",
       "</style>\n",
       "<table border=\"1\" class=\"dataframe\">\n",
       "  <thead>\n",
       "    <tr style=\"text-align: right;\">\n",
       "      <th></th>\n",
       "      <th>count</th>\n",
       "      <th>mean</th>\n",
       "      <th>std</th>\n",
       "      <th>min</th>\n",
       "      <th>25%</th>\n",
       "      <th>50%</th>\n",
       "      <th>75%</th>\n",
       "      <th>max</th>\n",
       "    </tr>\n",
       "  </thead>\n",
       "  <tbody>\n",
       "    <tr>\n",
       "      <th>sum_gamerounds</th>\n",
       "      <td>90189.000</td>\n",
       "      <td>51.872</td>\n",
       "      <td>195.051</td>\n",
       "      <td>0.000</td>\n",
       "      <td>5.000</td>\n",
       "      <td>16.000</td>\n",
       "      <td>51.000</td>\n",
       "      <td>49854.000</td>\n",
       "    </tr>\n",
       "  </tbody>\n",
       "</table>\n",
       "</div>"
      ],
      "text/plain": [
       "                   count   mean     std   min   25%    50%    75%       max\n",
       "sum_gamerounds 90189.000 51.872 195.051 0.000 5.000 16.000 51.000 49854.000"
      ]
     },
     "execution_count": 10,
     "metadata": {},
     "output_type": "execute_result"
    }
   ],
   "source": [
    "# Desptive statistics of the entire data set to get an idea of the distribution\n",
    "\n",
    "data[['sum_gamerounds']].describe().T"
   ]
  },
  {
   "cell_type": "code",
   "execution_count": 11,
   "id": "2f82a53c-2efd-408e-b658-fcc5659d8fb0",
   "metadata": {},
   "outputs": [
    {
     "data": {
      "text/html": [
       "<div>\n",
       "<style scoped>\n",
       "    .dataframe tbody tr th:only-of-type {\n",
       "        vertical-align: middle;\n",
       "    }\n",
       "\n",
       "    .dataframe tbody tr th {\n",
       "        vertical-align: top;\n",
       "    }\n",
       "\n",
       "    .dataframe thead th {\n",
       "        text-align: right;\n",
       "    }\n",
       "</style>\n",
       "<table border=\"1\" class=\"dataframe\">\n",
       "  <thead>\n",
       "    <tr style=\"text-align: right;\">\n",
       "      <th></th>\n",
       "      <th>count</th>\n",
       "      <th>mean</th>\n",
       "      <th>median</th>\n",
       "      <th>std</th>\n",
       "      <th>max</th>\n",
       "    </tr>\n",
       "    <tr>\n",
       "      <th>version</th>\n",
       "      <th></th>\n",
       "      <th></th>\n",
       "      <th></th>\n",
       "      <th></th>\n",
       "      <th></th>\n",
       "    </tr>\n",
       "  </thead>\n",
       "  <tbody>\n",
       "    <tr>\n",
       "      <th>gate_30</th>\n",
       "      <td>44700</td>\n",
       "      <td>52.456</td>\n",
       "      <td>17.000</td>\n",
       "      <td>256.716</td>\n",
       "      <td>49854</td>\n",
       "    </tr>\n",
       "    <tr>\n",
       "      <th>gate_40</th>\n",
       "      <td>45489</td>\n",
       "      <td>51.299</td>\n",
       "      <td>16.000</td>\n",
       "      <td>103.294</td>\n",
       "      <td>2640</td>\n",
       "    </tr>\n",
       "  </tbody>\n",
       "</table>\n",
       "</div>"
      ],
      "text/plain": [
       "         count   mean  median     std    max\n",
       "version                                     \n",
       "gate_30  44700 52.456  17.000 256.716  49854\n",
       "gate_40  45489 51.299  16.000 103.294   2640"
      ]
     },
     "execution_count": 11,
     "metadata": {},
     "output_type": "execute_result"
    }
   ],
   "source": [
    "# Grouped by control and treatment groups\n",
    "\n",
    "data.groupby('version')['sum_gamerounds'].agg(['count', 'mean', 'median', 'std', 'max'])"
   ]
  },
  {
   "cell_type": "markdown",
   "id": "40613584-3cfd-4a47-b296-64131f82f3f8",
   "metadata": {},
   "source": [
    "Looking at the two groups visually, we can see there is an outlier in the `gate_30` group. This will be skewing the data."
   ]
  },
  {
   "cell_type": "code",
   "execution_count": 12,
   "id": "8bc308b8-9aff-4b94-bde9-f7302d9dba18",
   "metadata": {},
   "outputs": [
    {
     "data": {
      "image/png": "[encoded data removed]",
      "text/plain": [
       "<Figure size 1152x288 with 4 Axes>"
      ]
     },
     "metadata": {
      "needs_background": "light"
     },
     "output_type": "display_data"
    }
   ],
   "source": [
    "fig, axes = plt.subplots(1, 4, figsize=(16, 4))\n",
    "\n",
    "sns.histplot(data['sum_gamerounds'], bins=100, ax=axes[0])\n",
    "sns.histplot(data[data['version'] == 'gate_30']['sum_gamerounds'], bins=100, ax=axes[1])\n",
    "sns.histplot(data[data['version'] == 'gate_40']['sum_gamerounds'], bins=100, ax=axes[2])\n",
    "sns.boxplot(x='version', y='sum_gamerounds', data=data, ax=axes[3])\n",
    "\n",
    "axes[0].set_title('Dist of sum_gamerounds')\n",
    "axes[1].set_title('Dist of Control (gate_30)')\n",
    "axes[2].set_title('Dist of Treatment (gate_40)')\n",
    "axes[3].set_title('Boxplot of Control and Treatment groups')\n",
    "plt.show()"
   ]
  },
  {
   "cell_type": "code",
   "execution_count": 13,
   "id": "14350ee0-c5bb-4f43-b249-68d7e98f9520",
   "metadata": {},
   "outputs": [
    {
     "data": {
      "text/plain": [
       "1    90188\n",
       "2        0\n",
       "3        0\n",
       "4        0\n",
       "5        1\n",
       "Name: sum_gamerounds, dtype: int64"
      ]
     },
     "execution_count": 13,
     "metadata": {},
     "output_type": "execute_result"
    }
   ],
   "source": [
    "# Binning sum_gamerounds into 5 arbitrary size bins to get a feel for how many outliers there are\n",
    "\n",
    "rounds_bins = pd.cut(data['sum_gamerounds'], 5, labels=[i+1 for i in range(5)])\n",
    "rounds_bins.value_counts().sort_index()"
   ]
  },
  {
   "cell_type": "markdown",
   "id": "c92d5d4a-f479-447c-8bf2-bb69eb8bb29b",
   "metadata": {},
   "source": [
    "This means that if the data was sorted into 5 arbitrary but equal bins by `sum_gamecount`, 90,188 of the values would be in bin one, and one value would be in bin five, with no values in bins two, three, or four. \n",
    "\n",
    "The data is telling us that a user played ~50,000 games in the first week after downloading, which if true, is kinda impressive. I am are going to remove the outlier."
   ]
  },
  {
   "cell_type": "code",
   "execution_count": 14,
   "id": "500dca4e-50e0-4cf8-b7f5-477f9d7caa07",
   "metadata": {},
   "outputs": [],
   "source": [
    "data = data[data['sum_gamerounds'] < data['sum_gamerounds'].max()]"
   ]
  },
  {
   "cell_type": "code",
   "execution_count": 15,
   "id": "d04a722a-c517-4bbf-9e8c-9eacc91c517e",
   "metadata": {},
   "outputs": [
    {
     "data": {
      "text/html": [
       "<div>\n",
       "<style scoped>\n",
       "    .dataframe tbody tr th:only-of-type {\n",
       "        vertical-align: middle;\n",
       "    }\n",
       "\n",
       "    .dataframe tbody tr th {\n",
       "        vertical-align: top;\n",
       "    }\n",
       "\n",
       "    .dataframe thead th {\n",
       "        text-align: right;\n",
       "    }\n",
       "</style>\n",
       "<table border=\"1\" class=\"dataframe\">\n",
       "  <thead>\n",
       "    <tr style=\"text-align: right;\">\n",
       "      <th></th>\n",
       "      <th>count</th>\n",
       "      <th>mean</th>\n",
       "      <th>std</th>\n",
       "      <th>min</th>\n",
       "      <th>25%</th>\n",
       "      <th>50%</th>\n",
       "      <th>75%</th>\n",
       "      <th>max</th>\n",
       "    </tr>\n",
       "  </thead>\n",
       "  <tbody>\n",
       "    <tr>\n",
       "      <th>userid</th>\n",
       "      <td>90188.000</td>\n",
       "      <td>4998396.798</td>\n",
       "      <td>2883297.866</td>\n",
       "      <td>116.000</td>\n",
       "      <td>2512211.250</td>\n",
       "      <td>4995804.000</td>\n",
       "      <td>7496460.750</td>\n",
       "      <td>9999861.000</td>\n",
       "    </tr>\n",
       "    <tr>\n",
       "      <th>sum_gamerounds</th>\n",
       "      <td>90188.000</td>\n",
       "      <td>51.320</td>\n",
       "      <td>102.683</td>\n",
       "      <td>0.000</td>\n",
       "      <td>5.000</td>\n",
       "      <td>16.000</td>\n",
       "      <td>51.000</td>\n",
       "      <td>2961.000</td>\n",
       "    </tr>\n",
       "  </tbody>\n",
       "</table>\n",
       "</div>"
      ],
      "text/plain": [
       "                   count        mean         std     min         25%  \\\n",
       "userid         90188.000 4998396.798 2883297.866 116.000 2512211.250   \n",
       "sum_gamerounds 90188.000      51.320     102.683   0.000       5.000   \n",
       "\n",
       "                       50%         75%         max  \n",
       "userid         4995804.000 7496460.750 9999861.000  \n",
       "sum_gamerounds      16.000      51.000    2961.000  "
      ]
     },
     "metadata": {},
     "output_type": "display_data"
    },
    {
     "data": {
      "text/html": [
       "<div>\n",
       "<style scoped>\n",
       "    .dataframe tbody tr th:only-of-type {\n",
       "        vertical-align: middle;\n",
       "    }\n",
       "\n",
       "    .dataframe tbody tr th {\n",
       "        vertical-align: top;\n",
       "    }\n",
       "\n",
       "    .dataframe thead th {\n",
       "        text-align: right;\n",
       "    }\n",
       "</style>\n",
       "<table border=\"1\" class=\"dataframe\">\n",
       "  <thead>\n",
       "    <tr style=\"text-align: right;\">\n",
       "      <th></th>\n",
       "      <th>count</th>\n",
       "      <th>mean</th>\n",
       "      <th>median</th>\n",
       "      <th>std</th>\n",
       "      <th>max</th>\n",
       "    </tr>\n",
       "    <tr>\n",
       "      <th>version</th>\n",
       "      <th></th>\n",
       "      <th></th>\n",
       "      <th></th>\n",
       "      <th></th>\n",
       "      <th></th>\n",
       "    </tr>\n",
       "  </thead>\n",
       "  <tbody>\n",
       "    <tr>\n",
       "      <th>gate_30</th>\n",
       "      <td>44699</td>\n",
       "      <td>51.342</td>\n",
       "      <td>17.000</td>\n",
       "      <td>102.058</td>\n",
       "      <td>2961</td>\n",
       "    </tr>\n",
       "    <tr>\n",
       "      <th>gate_40</th>\n",
       "      <td>45489</td>\n",
       "      <td>51.299</td>\n",
       "      <td>16.000</td>\n",
       "      <td>103.294</td>\n",
       "      <td>2640</td>\n",
       "    </tr>\n",
       "  </tbody>\n",
       "</table>\n",
       "</div>"
      ],
      "text/plain": [
       "         count   mean  median     std   max\n",
       "version                                    \n",
       "gate_30  44699 51.342  17.000 102.058  2961\n",
       "gate_40  45489 51.299  16.000 103.294  2640"
      ]
     },
     "metadata": {},
     "output_type": "display_data"
    }
   ],
   "source": [
    "# Checking descriptive stats of without outlier\n",
    "\n",
    "display(data.describe().T)\n",
    "display(data.groupby('version')['sum_gamerounds'].agg(['count', 'mean', 'median', 'std', 'max']))"
   ]
  },
  {
   "cell_type": "code",
   "execution_count": 16,
   "id": "7cf81edd-901a-4208-832f-ba00f3168707",
   "metadata": {},
   "outputs": [
    {
     "data": {
      "image/png": "[encoded data removed]",
      "text/plain": [
       "<Figure size 1152x288 with 4 Axes>"
      ]
     },
     "metadata": {
      "needs_background": "light"
     },
     "output_type": "display_data"
    }
   ],
   "source": [
    "# Re-plotting without outlier\n",
    "\n",
    "fig, axes = plt.subplots(1, 4, figsize=(16, 4))\n",
    "\n",
    "sns.histplot(data['sum_gamerounds'], bins=100, ax=axes[0])\n",
    "sns.histplot(data[data['version'] == 'gate_30']['sum_gamerounds'], bins=100, ax=axes[1])\n",
    "sns.histplot(data[data['version'] == 'gate_40']['sum_gamerounds'], bins=100, ax=axes[2])\n",
    "sns.boxplot(x='version', y='sum_gamerounds', data=data, ax=axes[3])\n",
    "\n",
    "axes[0].set_title('Dist of sum_gamerounds')\n",
    "axes[1].set_title('Dist of Control (gate_30)')\n",
    "axes[2].set_title('Dist of Treatment (gate_40)')\n",
    "axes[3].set_title('Boxplot of Control and Treatment groups')\n",
    "plt.show()"
   ]
  },
  {
   "cell_type": "markdown",
   "id": "36a62c82-0e40-44cb-8419-e01b6495eb97",
   "metadata": {
    "tags": []
   },
   "source": [
    "Boxplots and some stats (mean, std) look more representative of the sample. There is still a skew.\n",
    "\n",
    "### Univariate - Gamerounds played\n",
    "\n",
    "Starting with the number of players to reach n rounds and a cumulative sum."
   ]
  },
  {
   "cell_type": "code",
   "execution_count": 17,
   "id": "22e71f46-d5dd-4f92-8b43-1f2f6c013a07",
   "metadata": {},
   "outputs": [],
   "source": [
    "# Cumulative sum for total sample\n",
    "def create_gamerounds(df):\n",
    "    '''Return a dataframe with sum_gamerounds, cound, percent_count, cumsum, percent_cumsum'''\n",
    "    gamerounds = df.groupby('sum_gamerounds')['userid'].agg(['count']).reset_index()\n",
    "    gamerounds['percent_count'] = gamerounds['count'] / df.shape[0] * 100\n",
    "    gamerounds['cumsum'] = gamerounds['count'].cumsum()\n",
    "    gamerounds['percent_cumsum'] = gamerounds['cumsum'] / df.shape[0] * 100\n",
    "    return gamerounds\n",
    "    \n",
    "gamerounds_tot = create_gamerounds(data)"
   ]
  },
  {
   "cell_type": "code",
   "execution_count": 18,
   "id": "a3f359db-cb88-412e-8057-30cc603293f1",
   "metadata": {},
   "outputs": [
    {
     "data": {
      "text/html": [
       "<div>\n",
       "<style scoped>\n",
       "    .dataframe tbody tr th:only-of-type {\n",
       "        vertical-align: middle;\n",
       "    }\n",
       "\n",
       "    .dataframe tbody tr th {\n",
       "        vertical-align: top;\n",
       "    }\n",
       "\n",
       "    .dataframe thead th {\n",
       "        text-align: right;\n",
       "    }\n",
       "</style>\n",
       "<table border=\"1\" class=\"dataframe\">\n",
       "  <thead>\n",
       "    <tr style=\"text-align: right;\">\n",
       "      <th></th>\n",
       "      <th>sum_gamerounds</th>\n",
       "      <th>count</th>\n",
       "      <th>percent_count</th>\n",
       "      <th>cumsum</th>\n",
       "      <th>percent_cumsum</th>\n",
       "    </tr>\n",
       "  </thead>\n",
       "  <tbody>\n",
       "    <tr>\n",
       "      <th>0</th>\n",
       "      <td>0</td>\n",
       "      <td>3994</td>\n",
       "      <td>4.429</td>\n",
       "      <td>3994</td>\n",
       "      <td>4.429</td>\n",
       "    </tr>\n",
       "    <tr>\n",
       "      <th>1</th>\n",
       "      <td>1</td>\n",
       "      <td>5538</td>\n",
       "      <td>6.141</td>\n",
       "      <td>9532</td>\n",
       "      <td>10.569</td>\n",
       "    </tr>\n",
       "    <tr>\n",
       "      <th>2</th>\n",
       "      <td>2</td>\n",
       "      <td>4606</td>\n",
       "      <td>5.107</td>\n",
       "      <td>14138</td>\n",
       "      <td>15.676</td>\n",
       "    </tr>\n",
       "    <tr>\n",
       "      <th>3</th>\n",
       "      <td>3</td>\n",
       "      <td>3958</td>\n",
       "      <td>4.389</td>\n",
       "      <td>18096</td>\n",
       "      <td>20.065</td>\n",
       "    </tr>\n",
       "    <tr>\n",
       "      <th>4</th>\n",
       "      <td>4</td>\n",
       "      <td>3629</td>\n",
       "      <td>4.024</td>\n",
       "      <td>21725</td>\n",
       "      <td>24.089</td>\n",
       "    </tr>\n",
       "    <tr>\n",
       "      <th>5</th>\n",
       "      <td>5</td>\n",
       "      <td>2992</td>\n",
       "      <td>3.318</td>\n",
       "      <td>24717</td>\n",
       "      <td>27.406</td>\n",
       "    </tr>\n",
       "    <tr>\n",
       "      <th>6</th>\n",
       "      <td>6</td>\n",
       "      <td>2861</td>\n",
       "      <td>3.172</td>\n",
       "      <td>27578</td>\n",
       "      <td>30.578</td>\n",
       "    </tr>\n",
       "    <tr>\n",
       "      <th>7</th>\n",
       "      <td>7</td>\n",
       "      <td>2379</td>\n",
       "      <td>2.638</td>\n",
       "      <td>29957</td>\n",
       "      <td>33.216</td>\n",
       "    </tr>\n",
       "    <tr>\n",
       "      <th>8</th>\n",
       "      <td>8</td>\n",
       "      <td>2267</td>\n",
       "      <td>2.514</td>\n",
       "      <td>32224</td>\n",
       "      <td>35.730</td>\n",
       "    </tr>\n",
       "    <tr>\n",
       "      <th>9</th>\n",
       "      <td>9</td>\n",
       "      <td>2013</td>\n",
       "      <td>2.232</td>\n",
       "      <td>34237</td>\n",
       "      <td>37.962</td>\n",
       "    </tr>\n",
       "    <tr>\n",
       "      <th>10</th>\n",
       "      <td>10</td>\n",
       "      <td>1752</td>\n",
       "      <td>1.943</td>\n",
       "      <td>35989</td>\n",
       "      <td>39.904</td>\n",
       "    </tr>\n",
       "    <tr>\n",
       "      <th>11</th>\n",
       "      <td>11</td>\n",
       "      <td>1654</td>\n",
       "      <td>1.834</td>\n",
       "      <td>37643</td>\n",
       "      <td>41.738</td>\n",
       "    </tr>\n",
       "    <tr>\n",
       "      <th>12</th>\n",
       "      <td>12</td>\n",
       "      <td>1570</td>\n",
       "      <td>1.741</td>\n",
       "      <td>39213</td>\n",
       "      <td>43.479</td>\n",
       "    </tr>\n",
       "    <tr>\n",
       "      <th>13</th>\n",
       "      <td>13</td>\n",
       "      <td>1594</td>\n",
       "      <td>1.767</td>\n",
       "      <td>40807</td>\n",
       "      <td>45.247</td>\n",
       "    </tr>\n",
       "    <tr>\n",
       "      <th>14</th>\n",
       "      <td>14</td>\n",
       "      <td>1519</td>\n",
       "      <td>1.684</td>\n",
       "      <td>42326</td>\n",
       "      <td>46.931</td>\n",
       "    </tr>\n",
       "    <tr>\n",
       "      <th>15</th>\n",
       "      <td>15</td>\n",
       "      <td>1446</td>\n",
       "      <td>1.603</td>\n",
       "      <td>43772</td>\n",
       "      <td>48.534</td>\n",
       "    </tr>\n",
       "    <tr>\n",
       "      <th>16</th>\n",
       "      <td>16</td>\n",
       "      <td>1342</td>\n",
       "      <td>1.488</td>\n",
       "      <td>45114</td>\n",
       "      <td>50.022</td>\n",
       "    </tr>\n",
       "    <tr>\n",
       "      <th>17</th>\n",
       "      <td>17</td>\n",
       "      <td>1269</td>\n",
       "      <td>1.407</td>\n",
       "      <td>46383</td>\n",
       "      <td>51.429</td>\n",
       "    </tr>\n",
       "    <tr>\n",
       "      <th>18</th>\n",
       "      <td>18</td>\n",
       "      <td>1228</td>\n",
       "      <td>1.362</td>\n",
       "      <td>47611</td>\n",
       "      <td>52.791</td>\n",
       "    </tr>\n",
       "    <tr>\n",
       "      <th>19</th>\n",
       "      <td>19</td>\n",
       "      <td>1158</td>\n",
       "      <td>1.284</td>\n",
       "      <td>48769</td>\n",
       "      <td>54.075</td>\n",
       "    </tr>\n",
       "  </tbody>\n",
       "</table>\n",
       "</div>"
      ],
      "text/plain": [
       "    sum_gamerounds  count  percent_count  cumsum  percent_cumsum\n",
       "0                0   3994          4.429    3994           4.429\n",
       "1                1   5538          6.141    9532          10.569\n",
       "2                2   4606          5.107   14138          15.676\n",
       "3                3   3958          4.389   18096          20.065\n",
       "4                4   3629          4.024   21725          24.089\n",
       "5                5   2992          3.318   24717          27.406\n",
       "6                6   2861          3.172   27578          30.578\n",
       "7                7   2379          2.638   29957          33.216\n",
       "8                8   2267          2.514   32224          35.730\n",
       "9                9   2013          2.232   34237          37.962\n",
       "10              10   1752          1.943   35989          39.904\n",
       "11              11   1654          1.834   37643          41.738\n",
       "12              12   1570          1.741   39213          43.479\n",
       "13              13   1594          1.767   40807          45.247\n",
       "14              14   1519          1.684   42326          46.931\n",
       "15              15   1446          1.603   43772          48.534\n",
       "16              16   1342          1.488   45114          50.022\n",
       "17              17   1269          1.407   46383          51.429\n",
       "18              18   1228          1.362   47611          52.791\n",
       "19              19   1158          1.284   48769          54.075"
      ]
     },
     "execution_count": 18,
     "metadata": {},
     "output_type": "execute_result"
    }
   ],
   "source": [
    "gamerounds_tot.head(20)"
   ]
  },
  {
   "cell_type": "markdown",
   "id": "2dd5b322-950f-483b-adf9-04bc849b3f1b",
   "metadata": {},
   "source": [
    "Looking graphically at the a distribution of all players who played between 0 and 100 game rounds (~86 of the sample)"
   ]
  },
  {
   "cell_type": "code",
   "execution_count": 19,
   "id": "21a3ffce-5993-4862-9eed-d58412ebe399",
   "metadata": {},
   "outputs": [
    {
     "data": {
      "image/png": "[encoded data removed]",
      "text/plain": [
       "<Figure size 1152x288 with 1 Axes>"
      ]
     },
     "metadata": {
      "needs_background": "light"
     },
     "output_type": "display_data"
    }
   ],
   "source": [
    "ax = gamerounds_tot[:100].plot(x='sum_gamerounds', y='count', legend=False, figsize=(16,4))\n",
    "ax.set_xlabel('Game Rounds Played')\n",
    "ax.set_ylabel('Count of Players')\n",
    "plt.show()"
   ]
  },
  {
   "cell_type": "markdown",
   "id": "40e73127-4f2e-4730-a1ae-8b68b7492f9d",
   "metadata": {},
   "source": [
    "### Bivariate - gamerounds played\n",
    "\n",
    "Insights might be derived from inspecting gamerounds played with respect to group to see if there is an obvious link to retention."
   ]
  },
  {
   "cell_type": "code",
   "execution_count": 20,
   "id": "cccc74e3-555a-4c7d-8169-92120c492431",
   "metadata": {},
   "outputs": [
    {
     "data": {
      "text/html": [
       "<div>\n",
       "<style scoped>\n",
       "    .dataframe tbody tr th:only-of-type {\n",
       "        vertical-align: middle;\n",
       "    }\n",
       "\n",
       "    .dataframe tbody tr th {\n",
       "        vertical-align: top;\n",
       "    }\n",
       "\n",
       "    .dataframe thead th {\n",
       "        text-align: right;\n",
       "    }\n",
       "</style>\n",
       "<table border=\"1\" class=\"dataframe\">\n",
       "  <thead>\n",
       "    <tr style=\"text-align: right;\">\n",
       "      <th></th>\n",
       "      <th>sum_gamerounds</th>\n",
       "      <th>count</th>\n",
       "      <th>percent_count</th>\n",
       "      <th>cumsum</th>\n",
       "      <th>percent_cumsum</th>\n",
       "    </tr>\n",
       "  </thead>\n",
       "  <tbody>\n",
       "    <tr>\n",
       "      <th>0</th>\n",
       "      <td>0</td>\n",
       "      <td>1937</td>\n",
       "      <td>4.333</td>\n",
       "      <td>1937</td>\n",
       "      <td>4.333</td>\n",
       "    </tr>\n",
       "    <tr>\n",
       "      <th>1</th>\n",
       "      <td>1</td>\n",
       "      <td>2749</td>\n",
       "      <td>6.150</td>\n",
       "      <td>4686</td>\n",
       "      <td>10.483</td>\n",
       "    </tr>\n",
       "    <tr>\n",
       "      <th>2</th>\n",
       "      <td>2</td>\n",
       "      <td>2198</td>\n",
       "      <td>4.917</td>\n",
       "      <td>6884</td>\n",
       "      <td>15.401</td>\n",
       "    </tr>\n",
       "    <tr>\n",
       "      <th>3</th>\n",
       "      <td>3</td>\n",
       "      <td>1899</td>\n",
       "      <td>4.248</td>\n",
       "      <td>8783</td>\n",
       "      <td>19.649</td>\n",
       "    </tr>\n",
       "    <tr>\n",
       "      <th>4</th>\n",
       "      <td>4</td>\n",
       "      <td>1831</td>\n",
       "      <td>4.096</td>\n",
       "      <td>10614</td>\n",
       "      <td>23.745</td>\n",
       "    </tr>\n",
       "    <tr>\n",
       "      <th>5</th>\n",
       "      <td>5</td>\n",
       "      <td>1442</td>\n",
       "      <td>3.226</td>\n",
       "      <td>12056</td>\n",
       "      <td>26.972</td>\n",
       "    </tr>\n",
       "    <tr>\n",
       "      <th>6</th>\n",
       "      <td>6</td>\n",
       "      <td>1420</td>\n",
       "      <td>3.177</td>\n",
       "      <td>13476</td>\n",
       "      <td>30.148</td>\n",
       "    </tr>\n",
       "    <tr>\n",
       "      <th>7</th>\n",
       "      <td>7</td>\n",
       "      <td>1199</td>\n",
       "      <td>2.682</td>\n",
       "      <td>14675</td>\n",
       "      <td>32.831</td>\n",
       "    </tr>\n",
       "    <tr>\n",
       "      <th>8</th>\n",
       "      <td>8</td>\n",
       "      <td>1162</td>\n",
       "      <td>2.600</td>\n",
       "      <td>15837</td>\n",
       "      <td>35.430</td>\n",
       "    </tr>\n",
       "    <tr>\n",
       "      <th>9</th>\n",
       "      <td>9</td>\n",
       "      <td>998</td>\n",
       "      <td>2.233</td>\n",
       "      <td>16835</td>\n",
       "      <td>37.663</td>\n",
       "    </tr>\n",
       "    <tr>\n",
       "      <th>10</th>\n",
       "      <td>10</td>\n",
       "      <td>838</td>\n",
       "      <td>1.875</td>\n",
       "      <td>17673</td>\n",
       "      <td>39.538</td>\n",
       "    </tr>\n",
       "    <tr>\n",
       "      <th>11</th>\n",
       "      <td>11</td>\n",
       "      <td>813</td>\n",
       "      <td>1.819</td>\n",
       "      <td>18486</td>\n",
       "      <td>41.357</td>\n",
       "    </tr>\n",
       "    <tr>\n",
       "      <th>12</th>\n",
       "      <td>12</td>\n",
       "      <td>784</td>\n",
       "      <td>1.754</td>\n",
       "      <td>19270</td>\n",
       "      <td>43.111</td>\n",
       "    </tr>\n",
       "    <tr>\n",
       "      <th>13</th>\n",
       "      <td>13</td>\n",
       "      <td>779</td>\n",
       "      <td>1.743</td>\n",
       "      <td>20049</td>\n",
       "      <td>44.853</td>\n",
       "    </tr>\n",
       "    <tr>\n",
       "      <th>14</th>\n",
       "      <td>14</td>\n",
       "      <td>733</td>\n",
       "      <td>1.640</td>\n",
       "      <td>20782</td>\n",
       "      <td>46.493</td>\n",
       "    </tr>\n",
       "    <tr>\n",
       "      <th>15</th>\n",
       "      <td>15</td>\n",
       "      <td>729</td>\n",
       "      <td>1.631</td>\n",
       "      <td>21511</td>\n",
       "      <td>48.124</td>\n",
       "    </tr>\n",
       "    <tr>\n",
       "      <th>16</th>\n",
       "      <td>16</td>\n",
       "      <td>658</td>\n",
       "      <td>1.472</td>\n",
       "      <td>22169</td>\n",
       "      <td>49.596</td>\n",
       "    </tr>\n",
       "    <tr>\n",
       "      <th>17</th>\n",
       "      <td>17</td>\n",
       "      <td>623</td>\n",
       "      <td>1.394</td>\n",
       "      <td>22792</td>\n",
       "      <td>50.990</td>\n",
       "    </tr>\n",
       "    <tr>\n",
       "      <th>18</th>\n",
       "      <td>18</td>\n",
       "      <td>612</td>\n",
       "      <td>1.369</td>\n",
       "      <td>23404</td>\n",
       "      <td>52.359</td>\n",
       "    </tr>\n",
       "    <tr>\n",
       "      <th>19</th>\n",
       "      <td>19</td>\n",
       "      <td>560</td>\n",
       "      <td>1.253</td>\n",
       "      <td>23964</td>\n",
       "      <td>53.612</td>\n",
       "    </tr>\n",
       "  </tbody>\n",
       "</table>\n",
       "</div>"
      ],
      "text/plain": [
       "    sum_gamerounds  count  percent_count  cumsum  percent_cumsum\n",
       "0                0   1937          4.333    1937           4.333\n",
       "1                1   2749          6.150    4686          10.483\n",
       "2                2   2198          4.917    6884          15.401\n",
       "3                3   1899          4.248    8783          19.649\n",
       "4                4   1831          4.096   10614          23.745\n",
       "5                5   1442          3.226   12056          26.972\n",
       "6                6   1420          3.177   13476          30.148\n",
       "7                7   1199          2.682   14675          32.831\n",
       "8                8   1162          2.600   15837          35.430\n",
       "9                9    998          2.233   16835          37.663\n",
       "10              10    838          1.875   17673          39.538\n",
       "11              11    813          1.819   18486          41.357\n",
       "12              12    784          1.754   19270          43.111\n",
       "13              13    779          1.743   20049          44.853\n",
       "14              14    733          1.640   20782          46.493\n",
       "15              15    729          1.631   21511          48.124\n",
       "16              16    658          1.472   22169          49.596\n",
       "17              17    623          1.394   22792          50.990\n",
       "18              18    612          1.369   23404          52.359\n",
       "19              19    560          1.253   23964          53.612"
      ]
     },
     "metadata": {},
     "output_type": "display_data"
    },
    {
     "data": {
      "text/html": [
       "<div>\n",
       "<style scoped>\n",
       "    .dataframe tbody tr th:only-of-type {\n",
       "        vertical-align: middle;\n",
       "    }\n",
       "\n",
       "    .dataframe tbody tr th {\n",
       "        vertical-align: top;\n",
       "    }\n",
       "\n",
       "    .dataframe thead th {\n",
       "        text-align: right;\n",
       "    }\n",
       "</style>\n",
       "<table border=\"1\" class=\"dataframe\">\n",
       "  <thead>\n",
       "    <tr style=\"text-align: right;\">\n",
       "      <th></th>\n",
       "      <th>sum_gamerounds</th>\n",
       "      <th>count</th>\n",
       "      <th>percent_count</th>\n",
       "      <th>cumsum</th>\n",
       "      <th>percent_cumsum</th>\n",
       "    </tr>\n",
       "  </thead>\n",
       "  <tbody>\n",
       "    <tr>\n",
       "      <th>0</th>\n",
       "      <td>0</td>\n",
       "      <td>2057</td>\n",
       "      <td>4.522</td>\n",
       "      <td>2057</td>\n",
       "      <td>4.522</td>\n",
       "    </tr>\n",
       "    <tr>\n",
       "      <th>1</th>\n",
       "      <td>1</td>\n",
       "      <td>2789</td>\n",
       "      <td>6.131</td>\n",
       "      <td>4846</td>\n",
       "      <td>10.653</td>\n",
       "    </tr>\n",
       "    <tr>\n",
       "      <th>2</th>\n",
       "      <td>2</td>\n",
       "      <td>2408</td>\n",
       "      <td>5.294</td>\n",
       "      <td>7254</td>\n",
       "      <td>15.947</td>\n",
       "    </tr>\n",
       "    <tr>\n",
       "      <th>3</th>\n",
       "      <td>3</td>\n",
       "      <td>2059</td>\n",
       "      <td>4.526</td>\n",
       "      <td>9313</td>\n",
       "      <td>20.473</td>\n",
       "    </tr>\n",
       "    <tr>\n",
       "      <th>4</th>\n",
       "      <td>4</td>\n",
       "      <td>1798</td>\n",
       "      <td>3.953</td>\n",
       "      <td>11111</td>\n",
       "      <td>24.426</td>\n",
       "    </tr>\n",
       "    <tr>\n",
       "      <th>5</th>\n",
       "      <td>5</td>\n",
       "      <td>1550</td>\n",
       "      <td>3.407</td>\n",
       "      <td>12661</td>\n",
       "      <td>27.833</td>\n",
       "    </tr>\n",
       "    <tr>\n",
       "      <th>6</th>\n",
       "      <td>6</td>\n",
       "      <td>1441</td>\n",
       "      <td>3.168</td>\n",
       "      <td>14102</td>\n",
       "      <td>31.001</td>\n",
       "    </tr>\n",
       "    <tr>\n",
       "      <th>7</th>\n",
       "      <td>7</td>\n",
       "      <td>1180</td>\n",
       "      <td>2.594</td>\n",
       "      <td>15282</td>\n",
       "      <td>33.595</td>\n",
       "    </tr>\n",
       "    <tr>\n",
       "      <th>8</th>\n",
       "      <td>8</td>\n",
       "      <td>1105</td>\n",
       "      <td>2.429</td>\n",
       "      <td>16387</td>\n",
       "      <td>36.024</td>\n",
       "    </tr>\n",
       "    <tr>\n",
       "      <th>9</th>\n",
       "      <td>9</td>\n",
       "      <td>1015</td>\n",
       "      <td>2.231</td>\n",
       "      <td>17402</td>\n",
       "      <td>38.255</td>\n",
       "    </tr>\n",
       "    <tr>\n",
       "      <th>10</th>\n",
       "      <td>10</td>\n",
       "      <td>914</td>\n",
       "      <td>2.009</td>\n",
       "      <td>18316</td>\n",
       "      <td>40.265</td>\n",
       "    </tr>\n",
       "    <tr>\n",
       "      <th>11</th>\n",
       "      <td>11</td>\n",
       "      <td>841</td>\n",
       "      <td>1.849</td>\n",
       "      <td>19157</td>\n",
       "      <td>42.113</td>\n",
       "    </tr>\n",
       "    <tr>\n",
       "      <th>12</th>\n",
       "      <td>12</td>\n",
       "      <td>786</td>\n",
       "      <td>1.728</td>\n",
       "      <td>19943</td>\n",
       "      <td>43.841</td>\n",
       "    </tr>\n",
       "    <tr>\n",
       "      <th>13</th>\n",
       "      <td>13</td>\n",
       "      <td>815</td>\n",
       "      <td>1.792</td>\n",
       "      <td>20758</td>\n",
       "      <td>45.633</td>\n",
       "    </tr>\n",
       "    <tr>\n",
       "      <th>14</th>\n",
       "      <td>14</td>\n",
       "      <td>786</td>\n",
       "      <td>1.728</td>\n",
       "      <td>21544</td>\n",
       "      <td>47.361</td>\n",
       "    </tr>\n",
       "    <tr>\n",
       "      <th>15</th>\n",
       "      <td>15</td>\n",
       "      <td>717</td>\n",
       "      <td>1.576</td>\n",
       "      <td>22261</td>\n",
       "      <td>48.937</td>\n",
       "    </tr>\n",
       "    <tr>\n",
       "      <th>16</th>\n",
       "      <td>16</td>\n",
       "      <td>684</td>\n",
       "      <td>1.504</td>\n",
       "      <td>22945</td>\n",
       "      <td>50.441</td>\n",
       "    </tr>\n",
       "    <tr>\n",
       "      <th>17</th>\n",
       "      <td>17</td>\n",
       "      <td>646</td>\n",
       "      <td>1.420</td>\n",
       "      <td>23591</td>\n",
       "      <td>51.861</td>\n",
       "    </tr>\n",
       "    <tr>\n",
       "      <th>18</th>\n",
       "      <td>18</td>\n",
       "      <td>616</td>\n",
       "      <td>1.354</td>\n",
       "      <td>24207</td>\n",
       "      <td>53.215</td>\n",
       "    </tr>\n",
       "    <tr>\n",
       "      <th>19</th>\n",
       "      <td>19</td>\n",
       "      <td>598</td>\n",
       "      <td>1.315</td>\n",
       "      <td>24805</td>\n",
       "      <td>54.530</td>\n",
       "    </tr>\n",
       "  </tbody>\n",
       "</table>\n",
       "</div>"
      ],
      "text/plain": [
       "    sum_gamerounds  count  percent_count  cumsum  percent_cumsum\n",
       "0                0   2057          4.522    2057           4.522\n",
       "1                1   2789          6.131    4846          10.653\n",
       "2                2   2408          5.294    7254          15.947\n",
       "3                3   2059          4.526    9313          20.473\n",
       "4                4   1798          3.953   11111          24.426\n",
       "5                5   1550          3.407   12661          27.833\n",
       "6                6   1441          3.168   14102          31.001\n",
       "7                7   1180          2.594   15282          33.595\n",
       "8                8   1105          2.429   16387          36.024\n",
       "9                9   1015          2.231   17402          38.255\n",
       "10              10    914          2.009   18316          40.265\n",
       "11              11    841          1.849   19157          42.113\n",
       "12              12    786          1.728   19943          43.841\n",
       "13              13    815          1.792   20758          45.633\n",
       "14              14    786          1.728   21544          47.361\n",
       "15              15    717          1.576   22261          48.937\n",
       "16              16    684          1.504   22945          50.441\n",
       "17              17    646          1.420   23591          51.861\n",
       "18              18    616          1.354   24207          53.215\n",
       "19              19    598          1.315   24805          54.530"
      ]
     },
     "metadata": {},
     "output_type": "display_data"
    }
   ],
   "source": [
    "# Cumulative sum for control and treatment group\n",
    "gamerounds_cont = create_gamerounds(data[data['version'] == 'gate_30'])\n",
    "gamerounds_treat = create_gamerounds(data[data['version'] == 'gate_40'])\n",
    "\n",
    "display(gamerounds_cont.head(20), gamerounds_treat.head(20))"
   ]
  },
  {
   "cell_type": "code",
   "execution_count": 21,
   "id": "e52de704-ae75-4ab6-99a3-231a11432518",
   "metadata": {},
   "outputs": [
    {
     "data": {
      "image/png": "[encoded data removed]",
      "text/plain": [
       "<Figure size 1152x288 with 1 Axes>"
      ]
     },
     "metadata": {
      "needs_background": "light"
     },
     "output_type": "display_data"
    }
   ],
   "source": [
    "# Graphically for users who played up to 100 game rounds:\n",
    "\n",
    "fig, ax = plt.subplots(figsize=(16, 4))\n",
    "sns.lineplot(x='sum_gamerounds', y='count', data=gamerounds_cont[:100], ax=ax)\n",
    "sns.lineplot(x='sum_gamerounds', y='count', data=gamerounds_treat[:100], ax=ax, palette='Or')\n",
    "ax.set_xlabel('Game Rounds Played')\n",
    "ax.set_ylabel('Count of Players')\n",
    "plt.show()"
   ]
  },
  {
   "cell_type": "markdown",
   "id": "f5372093-c825-4b37-9941-99ad93632e94",
   "metadata": {},
   "source": [
    "### Observations on rounds played\n",
    "\n",
    "All values are with respect to the week after installation. \n",
    "\n",
    "There are no obvious links between gamerounds played and the group the player was assigned to.\n",
    "\n",
    "The number of players decreases as levels increase. The exception is that a number of players installed the game and did not complete any levels (installed and did not play).\n",
    "- 3,994 (~4.4%) players did not play the game\n",
    "- ~27.4% of players played five or less rounds\n",
    "- 50% of players played 16 or less rounds\n",
    "- 75% of players played less than 50 rounds\n",
    "\n",
    "These values can be explored by themselves, especially the 3,994 players installing the game and not playing in the week following installation, in addition over a quarter of players in the sample played 5 rounds or less in the week following installation. Possible reasons may include but aren't limited to:\n",
    "- Players didn't like the game or aspect of the game (mechanics/aesthetics/music/story?).\n",
    "- Difficulty increased as levels progressed and locked players out.\n",
    "- Dodn't like the free-mium model.\n",
    "- Product was not as advertised.\n",
    "- Players haven't had an opportunity to play the game.\n",
    "\n",
    "With churn happening at relatively low number of rounds played, there is an opportunity to increase retention. Fact finding (exit surveys) and incentives could lead to higher retention rates. More research is required."
   ]
  },
  {
   "cell_type": "code",
   "execution_count": 22,
   "id": "ccd52ceb-eeac-4b15-8861-03288dfa2567",
   "metadata": {},
   "outputs": [
    {
     "data": {
      "text/plain": [
       "758.9956684799998"
      ]
     },
     "execution_count": 22,
     "metadata": {},
     "output_type": "execute_result"
    }
   ],
   "source": [
    "(0.448 * (1 - 0.448) + 0.442 * (1 - 0.442)) * ((1.96 / 0.05) ** 2)"
   ]
  },
  {
   "cell_type": "markdown",
   "id": "928b1f78-2d92-40c3-a2a8-e141dbd67e13",
   "metadata": {},
   "source": [
    "## 4.2 EDA - Retention <a name ='4.2'></a>"
   ]
  },
  {
   "cell_type": "code",
   "execution_count": 23,
   "id": "888664ff-ff57-4e8a-b867-1fb6a5878de5",
   "metadata": {},
   "outputs": [
    {
     "data": {
      "text/html": [
       "<div>\n",
       "<style scoped>\n",
       "    .dataframe tbody tr th:only-of-type {\n",
       "        vertical-align: middle;\n",
       "    }\n",
       "\n",
       "    .dataframe tbody tr th {\n",
       "        vertical-align: top;\n",
       "    }\n",
       "\n",
       "    .dataframe thead th {\n",
       "        text-align: right;\n",
       "    }\n",
       "</style>\n",
       "<table border=\"1\" class=\"dataframe\">\n",
       "  <thead>\n",
       "    <tr style=\"text-align: right;\">\n",
       "      <th></th>\n",
       "      <th>index</th>\n",
       "      <th>retention_1_count</th>\n",
       "      <th>retention_1_perc</th>\n",
       "      <th>retention_7_count</th>\n",
       "      <th>retention_7_perc</th>\n",
       "    </tr>\n",
       "  </thead>\n",
       "  <tbody>\n",
       "    <tr>\n",
       "      <th>0</th>\n",
       "      <td>False</td>\n",
       "      <td>50035</td>\n",
       "      <td>0.555</td>\n",
       "      <td>73408</td>\n",
       "      <td>0.814</td>\n",
       "    </tr>\n",
       "    <tr>\n",
       "      <th>1</th>\n",
       "      <td>True</td>\n",
       "      <td>40153</td>\n",
       "      <td>0.445</td>\n",
       "      <td>16780</td>\n",
       "      <td>0.186</td>\n",
       "    </tr>\n",
       "  </tbody>\n",
       "</table>\n",
       "</div>"
      ],
      "text/plain": [
       "   index  retention_1_count  retention_1_perc  retention_7_count  \\\n",
       "0  False              50035             0.555              73408   \n",
       "1   True              40153             0.445              16780   \n",
       "\n",
       "   retention_7_perc  \n",
       "0             0.814  \n",
       "1             0.186  "
      ]
     },
     "execution_count": 23,
     "metadata": {},
     "output_type": "execute_result"
    }
   ],
   "source": [
    "# Looking at all players\n",
    "\n",
    "pd.DataFrame({'retention_1_count': data['retention_1'].value_counts(),\n",
    "             'retention_1_perc': data['retention_1'].value_counts() / data.shape[0],\n",
    "             'retention_7_count': data['retention_7'].value_counts(),\n",
    "             'retention_7_perc': data['retention_7'].value_counts() / data.shape[0]}).reset_index()"
   ]
  },
  {
   "cell_type": "code",
   "execution_count": 24,
   "id": "dbc099e8-22d4-4c33-a2cc-685c59cb7364",
   "metadata": {},
   "outputs": [
    {
     "data": {
      "text/html": [
       "<div>\n",
       "<style scoped>\n",
       "    .dataframe tbody tr th:only-of-type {\n",
       "        vertical-align: middle;\n",
       "    }\n",
       "\n",
       "    .dataframe tbody tr th {\n",
       "        vertical-align: top;\n",
       "    }\n",
       "\n",
       "    .dataframe thead th {\n",
       "        text-align: right;\n",
       "    }\n",
       "</style>\n",
       "<table border=\"1\" class=\"dataframe\">\n",
       "  <thead>\n",
       "    <tr style=\"text-align: right;\">\n",
       "      <th></th>\n",
       "      <th></th>\n",
       "      <th>mean</th>\n",
       "      <th>median</th>\n",
       "      <th>std</th>\n",
       "      <th>max</th>\n",
       "      <th>count</th>\n",
       "      <th>ratio</th>\n",
       "    </tr>\n",
       "    <tr>\n",
       "      <th>version</th>\n",
       "      <th>retention_1</th>\n",
       "      <th></th>\n",
       "      <th></th>\n",
       "      <th></th>\n",
       "      <th></th>\n",
       "      <th></th>\n",
       "      <th></th>\n",
       "    </tr>\n",
       "  </thead>\n",
       "  <tbody>\n",
       "    <tr>\n",
       "      <th rowspan=\"2\" valign=\"top\">gate_30</th>\n",
       "      <th>False</th>\n",
       "      <td>16.359</td>\n",
       "      <td>6.000</td>\n",
       "      <td>36.528</td>\n",
       "      <td>1072</td>\n",
       "      <td>24665</td>\n",
       "      <td>0.552</td>\n",
       "    </tr>\n",
       "    <tr>\n",
       "      <th>True</th>\n",
       "      <td>94.412</td>\n",
       "      <td>48.000</td>\n",
       "      <td>135.038</td>\n",
       "      <td>2961</td>\n",
       "      <td>20034</td>\n",
       "      <td>0.448</td>\n",
       "    </tr>\n",
       "    <tr>\n",
       "      <th rowspan=\"2\" valign=\"top\">gate_40</th>\n",
       "      <th>False</th>\n",
       "      <td>16.340</td>\n",
       "      <td>6.000</td>\n",
       "      <td>35.926</td>\n",
       "      <td>1241</td>\n",
       "      <td>25370</td>\n",
       "      <td>0.558</td>\n",
       "    </tr>\n",
       "    <tr>\n",
       "      <th>True</th>\n",
       "      <td>95.381</td>\n",
       "      <td>49.000</td>\n",
       "      <td>137.887</td>\n",
       "      <td>2640</td>\n",
       "      <td>20119</td>\n",
       "      <td>0.442</td>\n",
       "    </tr>\n",
       "  </tbody>\n",
       "</table>\n",
       "</div>"
      ],
      "text/plain": [
       "                      mean  median     std   max  count  ratio\n",
       "version retention_1                                           \n",
       "gate_30 False       16.359   6.000  36.528  1072  24665  0.552\n",
       "        True        94.412  48.000 135.038  2961  20034  0.448\n",
       "gate_40 False       16.340   6.000  35.926  1241  25370  0.558\n",
       "        True        95.381  49.000 137.887  2640  20119  0.442"
      ]
     },
     "execution_count": 24,
     "metadata": {},
     "output_type": "execute_result"
    }
   ],
   "source": [
    "# 1 Day Retention by group\n",
    "\n",
    "reten_1 = data.groupby(['version', 'retention_1'])['sum_gamerounds'].agg(['mean', 'median', 'std', 'max', 'count'])\n",
    "reten_1['ratio'] = reten_1.groupby(level=0).apply(lambda x: x / x.sum())['count']\n",
    "reten_1"
   ]
  },
  {
   "cell_type": "code",
   "execution_count": 25,
   "id": "e7989d45-7109-4388-b155-e08450b44e04",
   "metadata": {},
   "outputs": [
    {
     "data": {
      "text/html": [
       "<div>\n",
       "<style scoped>\n",
       "    .dataframe tbody tr th:only-of-type {\n",
       "        vertical-align: middle;\n",
       "    }\n",
       "\n",
       "    .dataframe tbody tr th {\n",
       "        vertical-align: top;\n",
       "    }\n",
       "\n",
       "    .dataframe thead th {\n",
       "        text-align: right;\n",
       "    }\n",
       "</style>\n",
       "<table border=\"1\" class=\"dataframe\">\n",
       "  <thead>\n",
       "    <tr style=\"text-align: right;\">\n",
       "      <th></th>\n",
       "      <th></th>\n",
       "      <th>mean</th>\n",
       "      <th>median</th>\n",
       "      <th>std</th>\n",
       "      <th>max</th>\n",
       "      <th>count</th>\n",
       "      <th>ratio</th>\n",
       "    </tr>\n",
       "    <tr>\n",
       "      <th>version</th>\n",
       "      <th>retention_7</th>\n",
       "      <th></th>\n",
       "      <th></th>\n",
       "      <th></th>\n",
       "      <th></th>\n",
       "      <th></th>\n",
       "      <th></th>\n",
       "    </tr>\n",
       "  </thead>\n",
       "  <tbody>\n",
       "    <tr>\n",
       "      <th rowspan=\"2\" valign=\"top\">gate_30</th>\n",
       "      <th>False</th>\n",
       "      <td>25.797</td>\n",
       "      <td>11.000</td>\n",
       "      <td>43.316</td>\n",
       "      <td>981</td>\n",
       "      <td>36198</td>\n",
       "      <td>0.810</td>\n",
       "    </tr>\n",
       "    <tr>\n",
       "      <th>True</th>\n",
       "      <td>160.118</td>\n",
       "      <td>105.000</td>\n",
       "      <td>179.359</td>\n",
       "      <td>2961</td>\n",
       "      <td>8501</td>\n",
       "      <td>0.190</td>\n",
       "    </tr>\n",
       "    <tr>\n",
       "      <th rowspan=\"2\" valign=\"top\">gate_40</th>\n",
       "      <th>False</th>\n",
       "      <td>25.856</td>\n",
       "      <td>11.000</td>\n",
       "      <td>44.406</td>\n",
       "      <td>2640</td>\n",
       "      <td>37210</td>\n",
       "      <td>0.818</td>\n",
       "    </tr>\n",
       "    <tr>\n",
       "      <th>True</th>\n",
       "      <td>165.650</td>\n",
       "      <td>111.000</td>\n",
       "      <td>183.792</td>\n",
       "      <td>2294</td>\n",
       "      <td>8279</td>\n",
       "      <td>0.182</td>\n",
       "    </tr>\n",
       "  </tbody>\n",
       "</table>\n",
       "</div>"
      ],
      "text/plain": [
       "                       mean  median     std   max  count  ratio\n",
       "version retention_7                                            \n",
       "gate_30 False        25.797  11.000  43.316   981  36198  0.810\n",
       "        True        160.118 105.000 179.359  2961   8501  0.190\n",
       "gate_40 False        25.856  11.000  44.406  2640  37210  0.818\n",
       "        True        165.650 111.000 183.792  2294   8279  0.182"
      ]
     },
     "execution_count": 25,
     "metadata": {},
     "output_type": "execute_result"
    }
   ],
   "source": [
    "# 7 Day Retention by group\n",
    "\n",
    "reten_7 = data.groupby(['version', 'retention_7'])['sum_gamerounds'].agg(['mean', 'median', 'std', 'max', 'count'])\n",
    "reten_7['ratio'] = reten_7.groupby(level=0).apply(lambda x: x / x.sum())['count']\n",
    "reten_7"
   ]
  },
  {
   "cell_type": "code",
   "execution_count": 26,
   "id": "8aeb105b-a03f-4098-91b6-231605b90b29",
   "metadata": {},
   "outputs": [
    {
     "data": {
      "image/png": "[encoded data removed]",
      "text/plain": [
       "<Figure size 1152x288 with 2 Axes>"
      ]
     },
     "metadata": {
      "needs_background": "light"
     },
     "output_type": "display_data"
    }
   ],
   "source": [
    "# 1 and 7 day by treatment group graphically\n",
    "\n",
    "fig, axes = plt.subplots(1, 2, figsize=(16,4))\n",
    "sns.barplot(x='version', y='ratio', data=reten_1.reset_index(), hue='retention_1', ax=axes[0])\n",
    "sns.barplot(x='version', y='ratio', data=reten_7.reset_index(), hue='retention_7', ax=axes[1])\n",
    "\n",
    "plt.suptitle('1 and 7 Day Retention Rates by Group')\n",
    "axes[0].set_title('1 Day Retention Rate')\n",
    "axes[1].set_title('7 Day Retention Rate')\n",
    "plt.show()"
   ]
  },
  {
   "cell_type": "code",
   "execution_count": 27,
   "id": "a765f646-5125-4691-9bfc-c1e123fd7256",
   "metadata": {},
   "outputs": [
    {
     "data": {
      "text/html": [
       "<div>\n",
       "<style scoped>\n",
       "    .dataframe tbody tr th:only-of-type {\n",
       "        vertical-align: middle;\n",
       "    }\n",
       "\n",
       "    .dataframe tbody tr th {\n",
       "        vertical-align: top;\n",
       "    }\n",
       "\n",
       "    .dataframe thead th {\n",
       "        text-align: right;\n",
       "    }\n",
       "</style>\n",
       "<table border=\"1\" class=\"dataframe\">\n",
       "  <thead>\n",
       "    <tr style=\"text-align: right;\">\n",
       "      <th></th>\n",
       "      <th></th>\n",
       "      <th></th>\n",
       "      <th>mean</th>\n",
       "      <th>median</th>\n",
       "      <th>std</th>\n",
       "      <th>max</th>\n",
       "      <th>count</th>\n",
       "      <th>ratio</th>\n",
       "    </tr>\n",
       "    <tr>\n",
       "      <th>version</th>\n",
       "      <th>retention_1</th>\n",
       "      <th>retention_7</th>\n",
       "      <th></th>\n",
       "      <th></th>\n",
       "      <th></th>\n",
       "      <th></th>\n",
       "      <th></th>\n",
       "      <th></th>\n",
       "    </tr>\n",
       "  </thead>\n",
       "  <tbody>\n",
       "    <tr>\n",
       "      <th rowspan=\"4\" valign=\"top\">gate_30</th>\n",
       "      <th rowspan=\"2\" valign=\"top\">False</th>\n",
       "      <th>False</th>\n",
       "      <td>11.820</td>\n",
       "      <td>6.000</td>\n",
       "      <td>21.643</td>\n",
       "      <td>981</td>\n",
       "      <td>22840</td>\n",
       "      <td>0.511</td>\n",
       "    </tr>\n",
       "    <tr>\n",
       "      <th>True</th>\n",
       "      <td>73.169</td>\n",
       "      <td>43.000</td>\n",
       "      <td>93.222</td>\n",
       "      <td>1072</td>\n",
       "      <td>1825</td>\n",
       "      <td>0.041</td>\n",
       "    </tr>\n",
       "    <tr>\n",
       "      <th rowspan=\"2\" valign=\"top\">True</th>\n",
       "      <th>False</th>\n",
       "      <td>49.694</td>\n",
       "      <td>33.000</td>\n",
       "      <td>58.125</td>\n",
       "      <td>918</td>\n",
       "      <td>13358</td>\n",
       "      <td>0.299</td>\n",
       "    </tr>\n",
       "    <tr>\n",
       "      <th>True</th>\n",
       "      <td>183.886</td>\n",
       "      <td>127.000</td>\n",
       "      <td>189.626</td>\n",
       "      <td>2961</td>\n",
       "      <td>6676</td>\n",
       "      <td>0.149</td>\n",
       "    </tr>\n",
       "    <tr>\n",
       "      <th rowspan=\"4\" valign=\"top\">gate_40</th>\n",
       "      <th rowspan=\"2\" valign=\"top\">False</th>\n",
       "      <th>False</th>\n",
       "      <td>11.913</td>\n",
       "      <td>6.000</td>\n",
       "      <td>20.901</td>\n",
       "      <td>547</td>\n",
       "      <td>23597</td>\n",
       "      <td>0.519</td>\n",
       "    </tr>\n",
       "    <tr>\n",
       "      <th>True</th>\n",
       "      <td>75.261</td>\n",
       "      <td>47.000</td>\n",
       "      <td>94.478</td>\n",
       "      <td>1241</td>\n",
       "      <td>1773</td>\n",
       "      <td>0.039</td>\n",
       "    </tr>\n",
       "    <tr>\n",
       "      <th rowspan=\"2\" valign=\"top\">True</th>\n",
       "      <th>False</th>\n",
       "      <td>50.025</td>\n",
       "      <td>32.000</td>\n",
       "      <td>60.925</td>\n",
       "      <td>2640</td>\n",
       "      <td>13613</td>\n",
       "      <td>0.299</td>\n",
       "    </tr>\n",
       "    <tr>\n",
       "      <th>True</th>\n",
       "      <td>190.282</td>\n",
       "      <td>133.000</td>\n",
       "      <td>194.220</td>\n",
       "      <td>2294</td>\n",
       "      <td>6506</td>\n",
       "      <td>0.143</td>\n",
       "    </tr>\n",
       "  </tbody>\n",
       "</table>\n",
       "</div>"
      ],
      "text/plain": [
       "                                   mean  median     std   max  count  ratio\n",
       "version retention_1 retention_7                                            \n",
       "gate_30 False       False        11.820   6.000  21.643   981  22840  0.511\n",
       "                    True         73.169  43.000  93.222  1072   1825  0.041\n",
       "        True        False        49.694  33.000  58.125   918  13358  0.299\n",
       "                    True        183.886 127.000 189.626  2961   6676  0.149\n",
       "gate_40 False       False        11.913   6.000  20.901   547  23597  0.519\n",
       "                    True         75.261  47.000  94.478  1241   1773  0.039\n",
       "        True        False        50.025  32.000  60.925  2640  13613  0.299\n",
       "                    True        190.282 133.000 194.220  2294   6506  0.143"
      ]
     },
     "execution_count": 27,
     "metadata": {},
     "output_type": "execute_result"
    }
   ],
   "source": [
    "# Looking at both day 1 and 7 values together\n",
    "\n",
    "reten_both = data.groupby(['version', 'retention_1', 'retention_7'])['sum_gamerounds'].agg(['mean', 'median', 'std', 'max', 'count'])\n",
    "reten_both['ratio'] = reten_both.groupby(level=0).apply(lambda x: x / x.sum())['count']\n",
    "reten_both"
   ]
  },
  {
   "cell_type": "code",
   "execution_count": 28,
   "id": "6a5e0417-ffe6-4dcd-97fe-4a34a40574d4",
   "metadata": {
    "tags": []
   },
   "outputs": [
    {
     "data": {
      "text/html": [
       "<div>\n",
       "<style scoped>\n",
       "    .dataframe tbody tr th:only-of-type {\n",
       "        vertical-align: middle;\n",
       "    }\n",
       "\n",
       "    .dataframe tbody tr th {\n",
       "        vertical-align: top;\n",
       "    }\n",
       "\n",
       "    .dataframe thead th {\n",
       "        text-align: right;\n",
       "    }\n",
       "</style>\n",
       "<table border=\"1\" class=\"dataframe\">\n",
       "  <thead>\n",
       "    <tr style=\"text-align: right;\">\n",
       "      <th></th>\n",
       "      <th></th>\n",
       "      <th></th>\n",
       "      <th>mean</th>\n",
       "      <th>median</th>\n",
       "      <th>std</th>\n",
       "      <th>max</th>\n",
       "      <th>count</th>\n",
       "      <th>ratio</th>\n",
       "      <th>reten_both</th>\n",
       "    </tr>\n",
       "    <tr>\n",
       "      <th>version</th>\n",
       "      <th>retention_1</th>\n",
       "      <th>retention_7</th>\n",
       "      <th></th>\n",
       "      <th></th>\n",
       "      <th></th>\n",
       "      <th></th>\n",
       "      <th></th>\n",
       "      <th></th>\n",
       "      <th></th>\n",
       "    </tr>\n",
       "  </thead>\n",
       "  <tbody>\n",
       "    <tr>\n",
       "      <th rowspan=\"4\" valign=\"top\">gate_30</th>\n",
       "      <th rowspan=\"2\" valign=\"top\">False</th>\n",
       "      <th>False</th>\n",
       "      <td>11.820</td>\n",
       "      <td>6.000</td>\n",
       "      <td>21.643</td>\n",
       "      <td>981</td>\n",
       "      <td>22840</td>\n",
       "      <td>0.511</td>\n",
       "      <td>False-False</td>\n",
       "    </tr>\n",
       "    <tr>\n",
       "      <th>True</th>\n",
       "      <td>73.169</td>\n",
       "      <td>43.000</td>\n",
       "      <td>93.222</td>\n",
       "      <td>1072</td>\n",
       "      <td>1825</td>\n",
       "      <td>0.041</td>\n",
       "      <td>False-True</td>\n",
       "    </tr>\n",
       "    <tr>\n",
       "      <th rowspan=\"2\" valign=\"top\">True</th>\n",
       "      <th>False</th>\n",
       "      <td>49.694</td>\n",
       "      <td>33.000</td>\n",
       "      <td>58.125</td>\n",
       "      <td>918</td>\n",
       "      <td>13358</td>\n",
       "      <td>0.299</td>\n",
       "      <td>True-False</td>\n",
       "    </tr>\n",
       "    <tr>\n",
       "      <th>True</th>\n",
       "      <td>183.886</td>\n",
       "      <td>127.000</td>\n",
       "      <td>189.626</td>\n",
       "      <td>2961</td>\n",
       "      <td>6676</td>\n",
       "      <td>0.149</td>\n",
       "      <td>True-True</td>\n",
       "    </tr>\n",
       "    <tr>\n",
       "      <th rowspan=\"4\" valign=\"top\">gate_40</th>\n",
       "      <th rowspan=\"2\" valign=\"top\">False</th>\n",
       "      <th>False</th>\n",
       "      <td>11.913</td>\n",
       "      <td>6.000</td>\n",
       "      <td>20.901</td>\n",
       "      <td>547</td>\n",
       "      <td>23597</td>\n",
       "      <td>0.519</td>\n",
       "      <td>False-False</td>\n",
       "    </tr>\n",
       "    <tr>\n",
       "      <th>True</th>\n",
       "      <td>75.261</td>\n",
       "      <td>47.000</td>\n",
       "      <td>94.478</td>\n",
       "      <td>1241</td>\n",
       "      <td>1773</td>\n",
       "      <td>0.039</td>\n",
       "      <td>False-True</td>\n",
       "    </tr>\n",
       "    <tr>\n",
       "      <th rowspan=\"2\" valign=\"top\">True</th>\n",
       "      <th>False</th>\n",
       "      <td>50.025</td>\n",
       "      <td>32.000</td>\n",
       "      <td>60.925</td>\n",
       "      <td>2640</td>\n",
       "      <td>13613</td>\n",
       "      <td>0.299</td>\n",
       "      <td>True-False</td>\n",
       "    </tr>\n",
       "    <tr>\n",
       "      <th>True</th>\n",
       "      <td>190.282</td>\n",
       "      <td>133.000</td>\n",
       "      <td>194.220</td>\n",
       "      <td>2294</td>\n",
       "      <td>6506</td>\n",
       "      <td>0.143</td>\n",
       "      <td>True-True</td>\n",
       "    </tr>\n",
       "  </tbody>\n",
       "</table>\n",
       "</div>"
      ],
      "text/plain": [
       "                                   mean  median     std   max  count  ratio  \\\n",
       "version retention_1 retention_7                                               \n",
       "gate_30 False       False        11.820   6.000  21.643   981  22840  0.511   \n",
       "                    True         73.169  43.000  93.222  1072   1825  0.041   \n",
       "        True        False        49.694  33.000  58.125   918  13358  0.299   \n",
       "                    True        183.886 127.000 189.626  2961   6676  0.149   \n",
       "gate_40 False       False        11.913   6.000  20.901   547  23597  0.519   \n",
       "                    True         75.261  47.000  94.478  1241   1773  0.039   \n",
       "        True        False        50.025  32.000  60.925  2640  13613  0.299   \n",
       "                    True        190.282 133.000 194.220  2294   6506  0.143   \n",
       "\n",
       "                                  reten_both  \n",
       "version retention_1 retention_7               \n",
       "gate_30 False       False        False-False  \n",
       "                    True          False-True  \n",
       "        True        False         True-False  \n",
       "                    True           True-True  \n",
       "gate_40 False       False        False-False  \n",
       "                    True          False-True  \n",
       "        True        False         True-False  \n",
       "                    True           True-True  "
      ]
     },
     "execution_count": 28,
     "metadata": {},
     "output_type": "execute_result"
    }
   ],
   "source": [
    "# Add a column with 1 and 7 Day Retention Bools\n",
    "reten_both['retention_1_str'] = np.where(reten_both.reset_index()['retention_1'] == True, 'True', 'False')\n",
    "reten_both['retention_7_str'] = np.where(reten_both.reset_index()['retention_7'] == True, 'True', 'False')\n",
    "reten_both['reten_both'] = reten_both['retention_1_str'].str.cat(reten_both['retention_7_str'], '-')\n",
    "reten_both.drop(columns=['retention_1_str', 'retention_7_str'], inplace=True)\n",
    "# test['reten_both'] = test['retention_1'].apply(lambda x, y: f\"{str(x)}+{str(y)}\", test['retention_7'], axis=1)\n",
    "reten_both"
   ]
  },
  {
   "cell_type": "code",
   "execution_count": 29,
   "id": "ce9b101b-7a61-40d9-9bcf-c7c17e7d8404",
   "metadata": {},
   "outputs": [
    {
     "data": {
      "image/png": "[encoded data removed]",
      "text/plain": [
       "<Figure size 1152x288 with 1 Axes>"
      ]
     },
     "metadata": {
      "needs_background": "light"
     },
     "output_type": "display_data"
    }
   ],
   "source": [
    "# Looking at combined 1 and 7 Day Retention Rates\n",
    "\n",
    "fig, ax = plt.subplots(figsize=(16,4))\n",
    "sns.barplot(x='reten_both', y='ratio', data=reten_both.reset_index(), hue='version', ax=ax)\n",
    "ax.set_title('Combined 1 and 7 Day Retention Rates')\n",
    "ax.set_xlabel('1 and 7 Day Return (Day 1-Day 7)')\n",
    "ax.set_ylabel('Retention Rate')\n",
    "\n",
    "plt.show()"
   ]
  },
  {
   "cell_type": "markdown",
   "id": "d39f4b43-d21d-4f41-b2fd-59cef5755861",
   "metadata": {},
   "source": [
    "### Retention Rate Observations\n",
    "\n",
    "Considering the entire sample, the 1 and 7 Day Retention Rate are 0.445 and 0.186 respectively. \n",
    "\n",
    "Graphically, there is not much to see. **The values for Day 1 and Day 7 retention rates are slightly higher for the control group,  `gate_30`, with a 1 and 7 Day retention rate of 0.448 and 0.190 respectively, compared with the the treatment group, `gate_40`, rates of 0.442 and 0.182.** The control groups retention rates are greater than the retention rates for the entire sample.\n",
    "\n",
    "AB tests will be performed to see if these values are statistically significant or not.\n",
    "\n",
    "Looking at the combined 1 and 7 Day Retention Rates, it looks like slightly more players assigned to the control group, `gate_30`, played the game both on Day 1 and with 7 Days (True-True), and more players assigned to the treatment group, `gate_40`, played neither on Day 1 or Day 7 (False-False) "
   ]
  },
  {
   "cell_type": "markdown",
   "id": "ef1f4182-b100-4c09-b311-329e8bc9498b",
   "metadata": {},
   "source": [
    "# 5. AB Tests <a name ='5'></a>\n",
    "\n",
    "The business question relates specifically to changing the gates based on the day 1 and 7 retention rates. We can also perform an A/B test on sum_gamerounds to check if there is a statistically significant difference in the number of gamerounds played based on assigned group.\n",
    "\n",
    "Therefore, A/B tests on three separate targets: `retention_1`, `retention_7`, and `sum_gamerounds`\n",
    "\n",
    "\n",
    "\n",
    "A confidence interval of 95% will be taken for all tests."
   ]
  },
  {
   "cell_type": "markdown",
   "id": "ebd782e4-a0b8-4db5-8f5a-dafc5cdaa3d8",
   "metadata": {},
   "source": [
    "## 5.1. Day 1 Retention <a name ='5.1'></a>"
   ]
  },
  {
   "cell_type": "markdown",
   "id": "fd7f46d6-4970-439e-a7e6-72932cfc0cf7",
   "metadata": {},
   "source": [
    "### 5.1.1. Bootstrapping <a name ='5.1.1'></a>\n",
    "\n",
    "We will perform a bootstrap analysis. Bootstrapping consists of repeatedly resampling the dataset with replacement with respect to each experimental group. This will provide a normal sampling distribution for both experiment groups. The variation between in Day 1 Retention rates played provides an indication of uncertainty between the two sampling distributions."
   ]
  },
  {
   "cell_type": "code",
   "execution_count": 30,
   "id": "e28dd2dd-daf6-4c82-aa39-5e3a40625826",
   "metadata": {},
   "outputs": [
    {
     "data": {
      "text/html": [
       "<div>\n",
       "<style scoped>\n",
       "    .dataframe tbody tr th:only-of-type {\n",
       "        vertical-align: middle;\n",
       "    }\n",
       "\n",
       "    .dataframe tbody tr th {\n",
       "        vertical-align: top;\n",
       "    }\n",
       "\n",
       "    .dataframe thead th {\n",
       "        text-align: right;\n",
       "    }\n",
       "</style>\n",
       "<table border=\"1\" class=\"dataframe\">\n",
       "  <thead>\n",
       "    <tr style=\"text-align: right;\">\n",
       "      <th>version</th>\n",
       "      <th>gate_30</th>\n",
       "      <th>gate_40</th>\n",
       "    </tr>\n",
       "  </thead>\n",
       "  <tbody>\n",
       "    <tr>\n",
       "      <th>0</th>\n",
       "      <td>0.455</td>\n",
       "      <td>0.437</td>\n",
       "    </tr>\n",
       "    <tr>\n",
       "      <th>1</th>\n",
       "      <td>0.445</td>\n",
       "      <td>0.440</td>\n",
       "    </tr>\n",
       "    <tr>\n",
       "      <th>2</th>\n",
       "      <td>0.450</td>\n",
       "      <td>0.444</td>\n",
       "    </tr>\n",
       "    <tr>\n",
       "      <th>3</th>\n",
       "      <td>0.446</td>\n",
       "      <td>0.444</td>\n",
       "    </tr>\n",
       "    <tr>\n",
       "      <th>4</th>\n",
       "      <td>0.449</td>\n",
       "      <td>0.445</td>\n",
       "    </tr>\n",
       "  </tbody>\n",
       "</table>\n",
       "</div>"
      ],
      "text/plain": [
       "version  gate_30  gate_40\n",
       "0          0.455    0.437\n",
       "1          0.445    0.440\n",
       "2          0.450    0.444\n",
       "3          0.446    0.444\n",
       "4          0.449    0.445"
      ]
     },
     "execution_count": 30,
     "metadata": {},
     "output_type": "execute_result"
    }
   ],
   "source": [
    "# Arbitrarily using 1000 random samples with replacement\n",
    "boot_1d = []\n",
    "\n",
    "for i in range(1000): # Reduce to reduce notebook run-time\n",
    "    boot_1d.append(data.sample(frac=1, replace=True).groupby('version')['retention_1'].mean())\n",
    "    \n",
    "boot_1d = pd.DataFrame(boot_1d).reset_index().drop(columns=['index'])\n",
    "boot_1d.head()"
   ]
  },
  {
   "cell_type": "code",
   "execution_count": 31,
   "id": "118a526c-48b7-4440-b116-aea333dc095c",
   "metadata": {},
   "outputs": [
    {
     "data": {
      "image/png": "[encoded data removed]",
      "text/plain": [
       "<Figure size 576x288 with 1 Axes>"
      ]
     },
     "metadata": {
      "needs_background": "light"
     },
     "output_type": "display_data"
    }
   ],
   "source": [
    "# Plotting distributions of the two experimental groups\n",
    "fig, ax = plt.subplots(figsize=(8,4))\n",
    "sns.kdeplot(data=boot_1d, ax=ax)\n",
    "plt.show()"
   ]
  },
  {
   "cell_type": "code",
   "execution_count": 32,
   "id": "96ff7ab6-02f7-4c8d-ba01-cd739e0eb249",
   "metadata": {},
   "outputs": [
    {
     "data": {
      "image/png": "[encoded data removed]",
      "text/plain": [
       "<Figure size 576x288 with 1 Axes>"
      ]
     },
     "metadata": {
      "needs_background": "light"
     },
     "output_type": "display_data"
    }
   ],
   "source": [
    "# Percentage difference between gate_30 and gate_40, this will provide a distribution relative to zero\n",
    "boot_1d['diff'] = (boot_1d['gate_40'] - boot_1d['gate_30']) / boot_1d['gate_30']\n",
    "\n",
    "# Plotting \n",
    "fig, ax = plt.subplots(figsize=(8,4))\n",
    "sns.kdeplot(data=boot_1d['diff'], ax=ax)\n",
    "plt.show()"
   ]
  },
  {
   "cell_type": "code",
   "execution_count": 33,
   "id": "f67762ad-1aed-4c71-b0e6-92119610fbdf",
   "metadata": {},
   "outputs": [
    {
     "data": {
      "text/plain": [
       "0.033"
      ]
     },
     "execution_count": 33,
     "metadata": {},
     "output_type": "execute_result"
    }
   ],
   "source": [
    "# Probability that 1 Day Retention is greater when gate is at Level 40\n",
    "prob = (boot_1d['diff'] > 0).mean()\n",
    "prob"
   ]
  },
  {
   "cell_type": "markdown",
   "id": "578ee14c-f523-47d8-8ab0-e9e24166efeb",
   "metadata": {
    "tags": []
   },
   "source": [
    "By plotting the difference between the two bootstrapped distributions and taking the percentage difference, we can determine the probability that the 1 Day retention rate was greater when the gate was set to 40. The probability calculated was 0.021 or 2.1%, suggesting that retention was greater when the gate was set to Level 30."
   ]
  },
  {
   "cell_type": "markdown",
   "id": "1b559f8b-9336-4cdf-b4f1-bce7f75a648f",
   "metadata": {},
   "source": [
    "## 5.1.2. Proportional z-test <a name ='5.1.2'></a>\n",
    "\n",
    "Because we are testing *retention rates*, a 2 sample proportional z-test is appropriate to check the proportions between the control and treatment group are statistically significant. The retention rate for `gate_40` can either go above or below the existing `gate_30`, requiring a two-tailed z-test. \n",
    "\n",
    "H0 = The proportions are the same\n",
    "\n",
    "H1 = The proportions are different"
   ]
  },
  {
   "cell_type": "code",
   "execution_count": 52,
   "id": "ef00eb7e-a9f2-4436-a89e-293a77d4963e",
   "metadata": {},
   "outputs": [
    {
     "data": {
      "text/plain": [
       "((20034, 44699), (20119, 45489))"
      ]
     },
     "execution_count": 52,
     "metadata": {},
     "output_type": "execute_result"
    }
   ],
   "source": [
    "# Significance Level\n",
    "alpha = 0.025\n",
    "\n",
    "cont_succ = data[data['version'] == 'gate_30']['retention_1'].sum()\n",
    "cont_size = data[data['version'] == 'gate_30'].shape[0]\n",
    "treat_succ = data[data['version'] == 'gate_40']['retention_1'].sum()\n",
    "treat_size = data[data['version'] == 'gate_40'].shape[0]\n",
    "\n",
    "(cont_succ, cont_size), (treat_succ, treat_size)"
   ]
  },
  {
   "cell_type": "code",
   "execution_count": 53,
   "id": "a38ca880-d775-42eb-b3bd-8fe6c07ba9d4",
   "metadata": {},
   "outputs": [
    {
     "data": {
      "text/plain": [
       "(1.787103509763628, 0.0739207603418346)"
      ]
     },
     "execution_count": 53,
     "metadata": {},
     "output_type": "execute_result"
    }
   ],
   "source": [
    "z_score, p_value = proportions_ztest(count=[cont_succ, treat_succ], nobs=[cont_size, treat_size], alternative='two-sided')\n",
    "\n",
    "z_score, p_value"
   ]
  },
  {
   "cell_type": "markdown",
   "id": "e95fdb3b-37d4-44ac-9461-3550ffaac83c",
   "metadata": {},
   "source": [
    "The z-test provided a *p-value* greater than 0.025, meaning we **can not reject the Null Hypothesis** of the the proportions being the same."
   ]
  },
  {
   "cell_type": "markdown",
   "id": "ff048b65-00d2-44a5-a579-971654401b32",
   "metadata": {},
   "source": [
    "### 5.2. Day 7 Retention <a name ='5.2'></a>\n",
    "\n",
    "Analysis is the same as Day 1 Retention."
   ]
  },
  {
   "cell_type": "markdown",
   "id": "a3bf8c12-46a1-4dca-8b7d-ccc387472122",
   "metadata": {},
   "source": [
    "### 5.2.1. Bootstrapping <a name ='5.2.1'></a>"
   ]
  },
  {
   "cell_type": "code",
   "execution_count": 36,
   "id": "b16d9268-f09e-406a-9d18-078c729ad8ea",
   "metadata": {},
   "outputs": [
    {
     "data": {
      "text/html": [
       "<div>\n",
       "<style scoped>\n",
       "    .dataframe tbody tr th:only-of-type {\n",
       "        vertical-align: middle;\n",
       "    }\n",
       "\n",
       "    .dataframe tbody tr th {\n",
       "        vertical-align: top;\n",
       "    }\n",
       "\n",
       "    .dataframe thead th {\n",
       "        text-align: right;\n",
       "    }\n",
       "</style>\n",
       "<table border=\"1\" class=\"dataframe\">\n",
       "  <thead>\n",
       "    <tr style=\"text-align: right;\">\n",
       "      <th>version</th>\n",
       "      <th>gate_30</th>\n",
       "      <th>gate_40</th>\n",
       "    </tr>\n",
       "  </thead>\n",
       "  <tbody>\n",
       "    <tr>\n",
       "      <th>0</th>\n",
       "      <td>0.191</td>\n",
       "      <td>0.183</td>\n",
       "    </tr>\n",
       "    <tr>\n",
       "      <th>1</th>\n",
       "      <td>0.191</td>\n",
       "      <td>0.180</td>\n",
       "    </tr>\n",
       "    <tr>\n",
       "      <th>2</th>\n",
       "      <td>0.190</td>\n",
       "      <td>0.186</td>\n",
       "    </tr>\n",
       "    <tr>\n",
       "      <th>3</th>\n",
       "      <td>0.187</td>\n",
       "      <td>0.183</td>\n",
       "    </tr>\n",
       "    <tr>\n",
       "      <th>4</th>\n",
       "      <td>0.190</td>\n",
       "      <td>0.180</td>\n",
       "    </tr>\n",
       "  </tbody>\n",
       "</table>\n",
       "</div>"
      ],
      "text/plain": [
       "version  gate_30  gate_40\n",
       "0          0.191    0.183\n",
       "1          0.191    0.180\n",
       "2          0.190    0.186\n",
       "3          0.187    0.183\n",
       "4          0.190    0.180"
      ]
     },
     "execution_count": 36,
     "metadata": {},
     "output_type": "execute_result"
    }
   ],
   "source": [
    "# Arbitrarily using 1000 random samples with replacement\n",
    "boot_7d = []\n",
    "\n",
    "for i in range(1000): # Reduce to reduce notebook run-time\n",
    "    boot_7d.append(data.sample(frac=1, replace=True).groupby('version')['retention_7'].mean())\n",
    "    \n",
    "boot_7d = pd.DataFrame(boot_7d).reset_index().drop(columns=['index'])\n",
    "boot_7d.head()"
   ]
  },
  {
   "cell_type": "code",
   "execution_count": 37,
   "id": "6bdf3ad8-7d1c-4fb5-831c-8d484af50c29",
   "metadata": {},
   "outputs": [
    {
     "data": {
      "image/png": "[encoded data removed]",
      "text/plain": [
       "<Figure size 576x288 with 1 Axes>"
      ]
     },
     "metadata": {
      "needs_background": "light"
     },
     "output_type": "display_data"
    }
   ],
   "source": [
    "# Plotting distributions of the two experimental groups\n",
    "fig, ax = plt.subplots(figsize=(8,4))\n",
    "sns.kdeplot(data=boot_7d, ax=ax)\n",
    "plt.show()"
   ]
  },
  {
   "cell_type": "code",
   "execution_count": 38,
   "id": "4e8ad639-d885-4c48-914b-17bf39ef9590",
   "metadata": {},
   "outputs": [
    {
     "data": {
      "image/png": "[encoded data removed]",
      "text/plain": [
       "<Figure size 576x288 with 1 Axes>"
      ]
     },
     "metadata": {
      "needs_background": "light"
     },
     "output_type": "display_data"
    }
   ],
   "source": [
    "# Percentage difference between gate_30 and gate_40, this will provide a distribution relative to zero\n",
    "boot_7d['diff'] = (boot_7d['gate_40'] - boot_7d['gate_30']) / boot_7d['gate_30']\n",
    "\n",
    "# Plotting \n",
    "fig, ax = plt.subplots(figsize=(8,4))\n",
    "sns.kdeplot(data=boot_7d['diff'], ax=ax)\n",
    "plt.show()"
   ]
  },
  {
   "cell_type": "code",
   "execution_count": 39,
   "id": "1b045b90-8061-496f-ba98-75e9c5c26277",
   "metadata": {},
   "outputs": [
    {
     "data": {
      "text/plain": [
       "0.001"
      ]
     },
     "execution_count": 39,
     "metadata": {},
     "output_type": "execute_result"
    }
   ],
   "source": [
    "# Probability that 1 Day Retention is greater when gate is at Level 40\n",
    "prob = (boot_7d['diff'] > 0).mean()\n",
    "prob"
   ]
  },
  {
   "cell_type": "markdown",
   "id": "b022b159-fca0-499a-8385-0663a7e2aacb",
   "metadata": {
    "tags": []
   },
   "source": [
    "By plotting the difference between the two bootstrapped distributions and taking the percentage difference, we can determine the probability that the 7 Day retention rate was greater when the gate was set to 40. The probability calculated was 0.001 or 0.1%, suggesting that retention was greater when the gate was set to Level 30."
   ]
  },
  {
   "cell_type": "markdown",
   "id": "261eab9b-1f8c-442d-890a-a1d4265def41",
   "metadata": {},
   "source": [
    "### 5.2.2. Proportional z-test <a name ='5.2.2'></a>\n",
    "\n",
    "H0 = The proportions are the same\n",
    "\n",
    "H1 = The proportions are different"
   ]
  },
  {
   "cell_type": "code",
   "execution_count": 40,
   "id": "2f7d27b4-a07b-48c6-90e7-5420525a8f3e",
   "metadata": {},
   "outputs": [
    {
     "data": {
      "text/plain": [
       "((8501, 44699), (8279, 45489))"
      ]
     },
     "execution_count": 40,
     "metadata": {},
     "output_type": "execute_result"
    }
   ],
   "source": [
    "# Significance Level\n",
    "alpha = 0.025\n",
    "\n",
    "cont_succ = data[data['version'] == 'gate_30']['retention_7'].sum()\n",
    "cont_size = data[data['version'] == 'gate_30'].shape[0]\n",
    "treat_succ = data[data['version'] == 'gate_40']['retention_7'].sum()\n",
    "treat_size = data[data['version'] == 'gate_40'].shape[0]\n",
    "\n",
    "(cont_succ, cont_size), (treat_succ, treat_size)"
   ]
  },
  {
   "cell_type": "code",
   "execution_count": 41,
   "id": "1832bd17-9e19-4a5b-bad9-faa46f41acb2",
   "metadata": {},
   "outputs": [
    {
     "data": {
      "text/plain": [
       "(3.1574100858819936, 0.0007958865886996721)"
      ]
     },
     "execution_count": 41,
     "metadata": {},
     "output_type": "execute_result"
    }
   ],
   "source": [
    "z_score, p_value = proportions_ztest(count=[cont_succ, treat_succ], nobs=[cont_size, treat_size], alternative='larger')\n",
    "\n",
    "z_score, p_value"
   ]
  },
  {
   "cell_type": "markdown",
   "id": "c4c9934b-1abd-4fac-b774-826e862b6eef",
   "metadata": {},
   "source": [
    "The z-test provided a *p-value* **less** than 0.025, meaning we can reject the Null Hypothesis. This indicates the proportions between the two distributions are statistically significantly different. Because this is a bi-directional test, **this would suggest that `gate_40` is worse for 7 Day Retention than `gate_30`.**  "
   ]
  },
  {
   "cell_type": "markdown",
   "id": "5c71f434-fa0a-4f2b-a1d3-56c1e67390f0",
   "metadata": {
    "tags": []
   },
   "source": [
    "## 5.3. Game Rounds <a name ='5.3'></a>\n",
    "\n",
    "The AB test was based on the Day 1 and 7 retention. This is a statistical analysis on gamerounds just for fun."
   ]
  },
  {
   "cell_type": "markdown",
   "id": "c1bdff0e-a2a9-424e-9b37-48d2ce7479e6",
   "metadata": {
    "jp-MarkdownHeadingCollapsed": true,
    "tags": []
   },
   "source": [
    "## 5.3.1. Bootstrapping <a name ='5.3.1'></a>"
   ]
  },
  {
   "cell_type": "code",
   "execution_count": 42,
   "id": "93e1af67-efa8-4bce-8232-d9ea6f105c67",
   "metadata": {},
   "outputs": [
    {
     "data": {
      "text/html": [
       "<div>\n",
       "<style scoped>\n",
       "    .dataframe tbody tr th:only-of-type {\n",
       "        vertical-align: middle;\n",
       "    }\n",
       "\n",
       "    .dataframe tbody tr th {\n",
       "        vertical-align: top;\n",
       "    }\n",
       "\n",
       "    .dataframe thead th {\n",
       "        text-align: right;\n",
       "    }\n",
       "</style>\n",
       "<table border=\"1\" class=\"dataframe\">\n",
       "  <thead>\n",
       "    <tr style=\"text-align: right;\">\n",
       "      <th>version</th>\n",
       "      <th>gate_30</th>\n",
       "      <th>gate_40</th>\n",
       "    </tr>\n",
       "  </thead>\n",
       "  <tbody>\n",
       "    <tr>\n",
       "      <th>0</th>\n",
       "      <td>51.372</td>\n",
       "      <td>51.513</td>\n",
       "    </tr>\n",
       "    <tr>\n",
       "      <th>1</th>\n",
       "      <td>51.188</td>\n",
       "      <td>51.283</td>\n",
       "    </tr>\n",
       "    <tr>\n",
       "      <th>2</th>\n",
       "      <td>51.734</td>\n",
       "      <td>50.702</td>\n",
       "    </tr>\n",
       "    <tr>\n",
       "      <th>3</th>\n",
       "      <td>52.536</td>\n",
       "      <td>50.574</td>\n",
       "    </tr>\n",
       "    <tr>\n",
       "      <th>4</th>\n",
       "      <td>50.660</td>\n",
       "      <td>51.114</td>\n",
       "    </tr>\n",
       "  </tbody>\n",
       "</table>\n",
       "</div>"
      ],
      "text/plain": [
       "version  gate_30  gate_40\n",
       "0         51.372   51.513\n",
       "1         51.188   51.283\n",
       "2         51.734   50.702\n",
       "3         52.536   50.574\n",
       "4         50.660   51.114"
      ]
     },
     "execution_count": 42,
     "metadata": {},
     "output_type": "execute_result"
    }
   ],
   "source": [
    "# Arbitrarily using 1000 random samples with replacement\n",
    "sum_gamerounds = []\n",
    "\n",
    "for i in range(1000): # Reduce to reduce notebook run-time\n",
    "    sum_gamerounds.append(data.sample(frac=1, replace=True).groupby('version')['sum_gamerounds'].mean())\n",
    "    \n",
    "sum_gamerounds = pd.DataFrame(sum_gamerounds).reset_index().drop(columns=['index'])\n",
    "sum_gamerounds.head()"
   ]
  },
  {
   "cell_type": "markdown",
   "id": "3ce4d9e0-2b10-4034-80ff-c15afc377ca0",
   "metadata": {},
   "source": [
    "The two bootstrapped distributions provide uncertainty over the underlying sum gamerounds played could be for each experimental group, control and treatment."
   ]
  },
  {
   "cell_type": "code",
   "execution_count": 43,
   "id": "8f003138-e31a-41c4-aaa5-a646d86dae8c",
   "metadata": {},
   "outputs": [
    {
     "data": {
      "image/png": "[encoded data removed]",
      "text/plain": [
       "<Figure size 576x288 with 1 Axes>"
      ]
     },
     "metadata": {
      "needs_background": "light"
     },
     "output_type": "display_data"
    }
   ],
   "source": [
    "# Plotting distributions of the two experimental groups\n",
    "fig, ax = plt.subplots(figsize=(8,4))\n",
    "sns.kdeplot(data=sum_gamerounds, ax=ax)\n",
    "plt.show()"
   ]
  },
  {
   "cell_type": "markdown",
   "id": "5ffdaf07-352d-4743-abce-7cb361fc96fc",
   "metadata": {},
   "source": [
    "The two distributions are overlapped, will not gain any useful insights. Looking closer at the differece between the distributions."
   ]
  },
  {
   "cell_type": "code",
   "execution_count": 44,
   "id": "50b34d04-ad43-47c9-af41-63c09ff44893",
   "metadata": {},
   "outputs": [
    {
     "data": {
      "image/png": "[encoded data removed]",
      "text/plain": [
       "<Figure size 576x288 with 1 Axes>"
      ]
     },
     "metadata": {
      "needs_background": "light"
     },
     "output_type": "display_data"
    }
   ],
   "source": [
    "# Percentage difference between gate_30 and gate_40\n",
    "sum_gamerounds['perc_diff'] = (sum_gamerounds['gate_40'] - sum_gamerounds['gate_30']) / sum_gamerounds['gate_30']\n",
    "\n",
    "# Plotting \n",
    "fig, ax = plt.subplots(figsize=(8,4))\n",
    "sns.kdeplot(data=sum_gamerounds['perc_diff'], ax=ax)\n",
    "plt.show()"
   ]
  },
  {
   "cell_type": "code",
   "execution_count": 45,
   "id": "8f836847-103d-4236-9fe2-3e2cf1d23e91",
   "metadata": {},
   "outputs": [
    {
     "data": {
      "text/plain": [
       "0.484"
      ]
     },
     "execution_count": 45,
     "metadata": {},
     "output_type": "execute_result"
    }
   ],
   "source": [
    "# Calculating the probability players will complete more gamerounds is greater when the gate is set at Level 40\n",
    "prob = (sum_gamerounds['perc_diff'] > 0).mean()\n",
    "prob"
   ]
  },
  {
   "cell_type": "markdown",
   "id": "f62d5d4e-8a74-4860-a67c-4416d5d2eab6",
   "metadata": {},
   "source": [
    "The probability that 1 Day Retention is greater when the gate is set at Level 40 is 0.481, slightly worse than a coin flip."
   ]
  },
  {
   "cell_type": "markdown",
   "id": "d67edb98-fffd-4525-bdb8-da0c0115f077",
   "metadata": {},
   "source": [
    "### 5.3.2. Mann-Whitney U test <a name ='5.3.2'></a>"
   ]
  },
  {
   "cell_type": "markdown",
   "id": "06550734-55cc-4d0f-aca6-7f58286f8520",
   "metadata": {},
   "source": [
    "The distribution of gamerounds played is clearly not normally distributed, but we can perform a Shapiro-Wilks test to confirm."
   ]
  },
  {
   "cell_type": "code",
   "execution_count": 46,
   "id": "750debd2-ad58-4461-8f72-7cb3fcac636b",
   "metadata": {},
   "outputs": [
    {
     "data": {
      "text/plain": [
       "(1, 1)"
      ]
     },
     "execution_count": 46,
     "metadata": {},
     "output_type": "execute_result"
    }
   ],
   "source": [
    "# Testing the normalcy of sum_gamerounds\n",
    "# H0 = sample is from a normal distribution (p-value > 0.05)\n",
    "# H1 = sample is not from a normal distribution (p-value < 0.05)\n",
    "\n",
    "control = data[data['version'] == 'gate_30']\n",
    "treatment = data[data['version'] == 'gate_40']\n",
    "\n",
    "# Checking control and treatment frames have been split correctly\n",
    "control['version'].nunique(), treatment['version'].nunique()"
   ]
  },
  {
   "cell_type": "code",
   "execution_count": 47,
   "id": "85b614fe-98a1-4cbe-a702-ad733bbd62af",
   "metadata": {},
   "outputs": [
    {
     "name": "stderr",
     "output_type": "stream",
     "text": [
      "/home/lrae/.pyenv/versions/3.8.12/envs/lewagon/lib/python3.8/site-packages/scipy/stats/morestats.py:1760: UserWarning: p-value may not be accurate for N > 5000.\n",
      "  warnings.warn(\"p-value may not be accurate for N > 5000.\")\n"
     ]
    }
   ],
   "source": [
    "shap_cont = stats.shapiro(control['sum_gamerounds'])\n",
    "shap_treat = stats.shapiro(treatment['sum_gamerounds'])"
   ]
  },
  {
   "cell_type": "code",
   "execution_count": 48,
   "id": "4d702258-58a0-434e-b66b-35072d66d02c",
   "metadata": {},
   "outputs": [
    {
     "data": {
      "text/plain": [
       "(0.0, 0.0)"
      ]
     },
     "execution_count": 48,
     "metadata": {},
     "output_type": "execute_result"
    }
   ],
   "source": [
    "shap_cont[1], shap_treat[1]"
   ]
  },
  {
   "cell_type": "markdown",
   "id": "4e8894bf-f75c-41b1-a525-27d7fc9608d2",
   "metadata": {},
   "source": [
    "The p-values for the Shapiro-Wilks test are non-trivially small, there is sufficient evidence to accept the hypothesis that the sample is not from a normal distribution.\n",
    "\n",
    "Applying Mann-Whitney U test:"
   ]
  },
  {
   "cell_type": "code",
   "execution_count": 49,
   "id": "74bff4fe-bd08-459b-808b-c78edf579b09",
   "metadata": {},
   "outputs": [
    {
     "name": "stdout",
     "output_type": "stream",
     "text": [
      "The p-value of the Mann Whitney U test is 0.0509.\n"
     ]
    }
   ],
   "source": [
    "_, p_value = stats.mannwhitneyu(control['sum_gamerounds'], treatment['sum_gamerounds'])\n",
    "print(f'The p-value of the Mann Whitney U test is {p_value:.4f}.')"
   ]
  },
  {
   "cell_type": "markdown",
   "id": "a8ba9502-8733-4d20-88cf-57a4ef7c372f",
   "metadata": {},
   "source": [
    "Because the p-value of the Mann Whitney U test, 0.0509, is greater than 0.05, the null hypothesis can not be rejected. That is to say, **there is insufficient evidence that increasing the gate to Level 40 will increase the sum of gamerounds played by users.**\n",
    "\n",
    "Statistically analysing the total gamerounds played has not provided much insight."
   ]
  },
  {
   "cell_type": "markdown",
   "id": "42768153-ee36-4b50-9c91-d72a65dd6cdf",
   "metadata": {},
   "source": [
    "# 6. Conclusion <a name ='6'></a>"
   ]
  },
  {
   "cell_type": "markdown",
   "id": "c2e9e267-5562-46d3-a520-1ad35b0c4e2c",
   "metadata": {},
   "source": [
    "In this an analysis, an exploratory data analysis was performed on the gamerounds completed by each user and the Day 1 and 7 Retention rates. The data was clean with the exception of a single disproportionate outlier that was corrected for. A/B Testing using bootstrap analysis and proportional z-tests was done on Day 1 and 7 Retention rates, and bootstrap analysis and Mann-Whitney U test on gamerounds played. \n",
    "\n",
    "Based on the results of the z-test, **there is strong evidence that Day 7 retention rates are higher when the gate is at  Level 30.** Therefore, the gate should not be moved.\n",
    "The bootstrap analysis suggests that the Level 30 gate is better for Day 1 Retention. Further investigation is required.\n",
    "\n",
    "Looking at the cumulative number of games played per person, there where no statistically significant results. Rounds played could be examined further, for example to see if there is any impact on in-app micro transactions.\n",
    "\n",
    "---\n",
    "\n",
    "Have a look at some of my other projects on kaggle or on my [github](https://www.github.com/lorcanrae).\n",
    "\n",
    "Any feedback is appreciated."
   ]
  },
  {
   "cell_type": "code",
   "execution_count": null,
   "id": "d1ab91be-0b92-4785-95cd-a033e3802836",
   "metadata": {},
   "outputs": [],
   "source": []
  }
 ],
 "metadata": {
  "kernelspec": {
   "display_name": "Python 3 (ipykernel)",
   "language": "python",
   "name": "python3"
  },
  "language_info": {
   "codemirror_mode": {
    "name": "ipython",
    "version": 3
   },
   "file_extension": ".py",
   "mimetype": "text/x-python",
   "name": "python",
   "nbconvert_exporter": "python",
   "pygments_lexer": "ipython3",
   "version": "3.8.12"
  }
 },
 "nbformat": 4,
 "nbformat_minor": 5
}
