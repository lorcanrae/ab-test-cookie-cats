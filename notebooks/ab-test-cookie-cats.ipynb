{
 "cells": [
  {
   "cell_type": "markdown",
   "id": "00bef3b7-869f-4156-914f-2b0a1c40548e",
   "metadata": {},
   "source": [
    "# A/B Testing: Player Retention for Mobile Game\n",
    "\n",
    "## Table of Contents\n",
    "\n",
    "1. [Intorduction and Context](#1)\n",
    "2. [Imports and Helpers](#2)\n",
    "3. [Data](#3)\n",
    "4. [Exploratory Data Analysis](#4)\n",
    "5. [arst](#5)"
   ]
  },
  {
   "cell_type": "markdown",
   "id": "540fd7c0-d8f7-43c9-94d8-fda8d5bfde23",
   "metadata": {},
   "source": [
    "## 1. Introduction and Context <a name='1'></a>"
   ]
  },
  {
   "cell_type": "markdown",
   "id": "ad1a6087-2744-4ee1-aef1-3ff33e42b71d",
   "metadata": {},
   "source": [
    "This is a [mini project](datacamp.com/projects/184) from [DataCamp](datacamp.com). \n",
    "\n",
    "### Project Description from DataCamp:\n",
    "\n",
    "[Cookie Cats](https://tactilegames.com/cookie-cats/) is a hugely popular mobile puzzle game developed by [Tactile Entertainment](https://tactilegames.com). It's a classic \"connect three\" style puzzle game where the player must connect tiles of the same color in order to clear the board and win the level. It also features singing cats. We're not kidding!\n",
    "\n",
    "**As players progress through the game they will encounter gates that force them to wait some time before they can progress or alternatively make an in-app purchase to progress. In this project, we will analyze the result of an A/B test where the first gate in Cookie Cats was moved from level 30 to level 40. In particular, we will analyze the impact on player retention.**\n",
    "\n",
    "🍪 🐈 🍪 🐈 🍪 🐈\n",
    "\n",
    "### Problem Statement\n",
    "\n",
    "Should the proposed gate at Level 40 be implemented over the existing gate at Level 40 based on day 1 and 7 player retention rates.\n",
    "\n",
    "### Data Descriptions\n",
    "\n",
    "The dataset contains is from 90,189 players that installed the game while the AB Test was running. \n",
    "\n",
    "Dataset labels:\n",
    "- `userid` - `int` - unique player identifier.\n",
    "- `version` - `str` - group the player was randomly assigned to: control (`gate_30` .- gate at Level 30) or treatment (`gate_40` - gate at Level 40).\n",
    "- `sum_gamerounds` - `int` - total number of games played by the player during the first week after installation.\n",
    "- `retention_1` - `bool` - `True` if the player played 1 day after installing else `False`.\n",
    "- `retention_7` - `bool` - `True` if the player played 7 days after installing else `False`."
   ]
  },
  {
   "cell_type": "markdown",
   "id": "bcabe474-1e2f-4dab-b89c-7b712a883b71",
   "metadata": {},
   "source": [
    "## 2. Imports and Helpers<a name='2'></a>"
   ]
  },
  {
   "cell_type": "code",
   "execution_count": 56,
   "id": "e2ec548c-2ca3-439c-9c06-ef33d8f4f0d4",
   "metadata": {},
   "outputs": [],
   "source": [
    "# PyData\n",
    "import numpy as np\n",
    "import pandas as pd\n",
    "import matplotlib.pyplot as plt\n",
    "import seaborn as sns\n",
    "import os\n",
    "\n",
    "# Hypothesis Testing\n",
    "import scipy.stats as stats"
   ]
  },
  {
   "cell_type": "code",
   "execution_count": 57,
   "id": "06b9e263-2ede-4de7-ac24-0fd8238b0c28",
   "metadata": {},
   "outputs": [],
   "source": [
    "%matplotlib inline\n",
    "sns.set_palette('colorblind')"
   ]
  },
  {
   "cell_type": "code",
   "execution_count": 51,
   "id": "c1f5b0c0-7a97-4574-8c69-c5d212ee638c",
   "metadata": {},
   "outputs": [],
   "source": [
    "# Helper Functions\n",
    "\n",
    "def infoplus(df):\n",
    "    '''Returns an expanded form of pandas .info() to include,\n",
    "    shape, null count, null% and unique count'''\n",
    "    infod = {'col_ind': [], 'col_name': [], 'non_null': [], 'null': [],\n",
    "             'null_per': [], 'unique': [],'dtype': []}\n",
    "    max_len = []\n",
    "\n",
    "    for i, col in enumerate(df.columns):\n",
    "        infod['col_ind'].append(i)\n",
    "        infod['col_name'].append(col)\n",
    "        infod['non_null'].append(df[col].value_counts().sum())\n",
    "        infod['null'].append(df[col].isna().sum())\n",
    "        infod['null_per'].append(round(infod['null'][-1] / len(df), 5))\n",
    "        infod['unique'].append(len(df[col].unique()))\n",
    "        infod['dtype'].append(str(df[col].dtype))\n",
    "\n",
    "    for key in infod.keys():\n",
    "        max_len.append(len(max(map(str, infod[key]), key=len)))\n",
    "    for i, key in enumerate(infod.keys()):\n",
    "        max_len[i] = max(len(key), max_len[i])\n",
    "    if max_len[4] > 6:\n",
    "        max_len[4] = 6\n",
    "\n",
    "    OFFSET = 2\n",
    "    print(type(df))\n",
    "    print(f'Range Index: {len(df)} entries, {df.index[0]} to {df.index[-1]}')\n",
    "    print(f'Shape: {df.shape}')\n",
    "    print(f'''\\\n",
    "{'#': ^{max_len[0] + OFFSET - 2}}\\\n",
    "{'Column': <{max_len[1]}}\\\n",
    "{'Non-Null': >{max_len[2] + OFFSET}}\\\n",
    "{'Null': >{max_len[3] + OFFSET}}\\\n",
    "{'% Null': >{max_len[4] + OFFSET}}\\\n",
    "{'Unique': >{max_len[5] + OFFSET}}  \\\n",
    "{'dtype': <{max_len[6] + OFFSET}}\\\n",
    "''')\n",
    "    print(f'''\\\n",
    "{'-' * (max(3, max_len[0]) - 2): ^{max_len[0] + OFFSET - 2}}\\\n",
    "{'-' * max_len[1]: <{max_len[1]}}\\\n",
    "{'-' * max_len[2]: >{max_len[2] + OFFSET}}\\\n",
    "{'-' * max_len[3]: >{max_len[3] + OFFSET}}\\\n",
    "{'-' * max_len[4]: >{max_len[4] + OFFSET}}\\\n",
    "{'-' * max_len[5]: >{max_len[5] + OFFSET}}  \\\n",
    "{'-' * max_len[6]: <{max_len[6] + OFFSET}}\\\n",
    "''')\n",
    "    for i in infod['col_ind']:\n",
    "        print(f'''{str(infod['col_ind'][i]): ^{max(3, max_len[0] + OFFSET - 2)}}\\\n",
    "{infod['col_name'][i]: <{max_len[1]}}\\\n",
    "{infod['non_null'][i]: >{max_len[2] + OFFSET}}\\\n",
    "{infod['null'][i]: >{max_len[3] + OFFSET}}\\\n",
    "{f\"{infod['null_per'][i] * 100: .2f}\": >{max_len[4] + OFFSET}}\\\n",
    "{infod['unique'][i]: >{max_len[5] + OFFSET}}  \\\n",
    "{infod['dtype'][i]: <{max_len[6] + OFFSET}}\\\n",
    "              ''')\n",
    "    \n",
    "    dtypes = [dtype for dtype in set(infod['dtype'])]\n",
    "    for dtype in dtypes:\n",
    "        dtype_count = [f\"{dtype}({infod['dtype'].count(dtype)})\" for dtype in dtypes]\n",
    "    print(f\"dtypes: {', '.join(dtype_count)}\")\n",
    "    print(f'memory usage: {byte_conversion(df.memory_usage().sum())}')\n",
    "    \n",
    "# Helper\n",
    "def byte_conversion(df_mem):\n",
    "    '''Converts bytes to readable magnitude, used in infoplus()'''\n",
    "    ending_dict = {1: 'B', 2: 'KB', 3: 'MB', 4: 'GB'}\n",
    "    power = 1\n",
    "    while df_mem / (1024 ** power) > 1:\n",
    "        power += 1\n",
    "        if power == 4:\n",
    "            break\n",
    "    return f'{df_mem / (1024 ** (power - 1)): .2f} {ending_dict[power]}'"
   ]
  },
  {
   "cell_type": "markdown",
   "id": "e7d44fc4-23db-41ff-a417-b663ce12f3d3",
   "metadata": {},
   "source": [
    "## 3. Data <a name='3'></a>"
   ]
  },
  {
   "cell_type": "code",
   "execution_count": 52,
   "id": "cc384d51-1a72-4b26-9235-9366ec156fdf",
   "metadata": {},
   "outputs": [
    {
     "data": {
      "text/html": [
       "<div>\n",
       "<style scoped>\n",
       "    .dataframe tbody tr th:only-of-type {\n",
       "        vertical-align: middle;\n",
       "    }\n",
       "\n",
       "    .dataframe tbody tr th {\n",
       "        vertical-align: top;\n",
       "    }\n",
       "\n",
       "    .dataframe thead th {\n",
       "        text-align: right;\n",
       "    }\n",
       "</style>\n",
       "<table border=\"1\" class=\"dataframe\">\n",
       "  <thead>\n",
       "    <tr style=\"text-align: right;\">\n",
       "      <th></th>\n",
       "      <th>userid</th>\n",
       "      <th>version</th>\n",
       "      <th>sum_gamerounds</th>\n",
       "      <th>retention_1</th>\n",
       "      <th>retention_7</th>\n",
       "    </tr>\n",
       "  </thead>\n",
       "  <tbody>\n",
       "    <tr>\n",
       "      <th>0</th>\n",
       "      <td>116</td>\n",
       "      <td>gate_30</td>\n",
       "      <td>3</td>\n",
       "      <td>False</td>\n",
       "      <td>False</td>\n",
       "    </tr>\n",
       "    <tr>\n",
       "      <th>1</th>\n",
       "      <td>337</td>\n",
       "      <td>gate_30</td>\n",
       "      <td>38</td>\n",
       "      <td>True</td>\n",
       "      <td>False</td>\n",
       "    </tr>\n",
       "    <tr>\n",
       "      <th>2</th>\n",
       "      <td>377</td>\n",
       "      <td>gate_40</td>\n",
       "      <td>165</td>\n",
       "      <td>True</td>\n",
       "      <td>False</td>\n",
       "    </tr>\n",
       "    <tr>\n",
       "      <th>3</th>\n",
       "      <td>483</td>\n",
       "      <td>gate_40</td>\n",
       "      <td>1</td>\n",
       "      <td>False</td>\n",
       "      <td>False</td>\n",
       "    </tr>\n",
       "    <tr>\n",
       "      <th>4</th>\n",
       "      <td>488</td>\n",
       "      <td>gate_40</td>\n",
       "      <td>179</td>\n",
       "      <td>True</td>\n",
       "      <td>True</td>\n",
       "    </tr>\n",
       "  </tbody>\n",
       "</table>\n",
       "</div>"
      ],
      "text/plain": [
       "   userid  version  sum_gamerounds  retention_1  retention_7\n",
       "0     116  gate_30               3        False        False\n",
       "1     337  gate_30              38         True        False\n",
       "2     377  gate_40             165         True        False\n",
       "3     483  gate_40               1        False        False\n",
       "4     488  gate_40             179         True         True"
      ]
     },
     "execution_count": 52,
     "metadata": {},
     "output_type": "execute_result"
    }
   ],
   "source": [
    "data = pd.read_csv('../raw_data/cookie_cats.csv')\n",
    "\n",
    "data.head()"
   ]
  },
  {
   "cell_type": "code",
   "execution_count": 53,
   "id": "f533ce9e-7a5e-43cc-98f1-31376987f7a0",
   "metadata": {},
   "outputs": [
    {
     "name": "stdout",
     "output_type": "stream",
     "text": [
      "<class 'pandas.core.frame.DataFrame'>\n",
      "Range Index: 90189 entries, 0 to 90188\n",
      "Shape: (90189, 5)\n",
      "   #   Column          Non-Null  Null  % Null  Unique  dtype   \n",
      " ----- --------------  --------  ----  ------  ------  ------  \n",
      "   0   userid             90189     0    0.00   90189  int64                 \n",
      "   1   version            90189     0    0.00       2  object                \n",
      "   2   sum_gamerounds     90189     0    0.00     942  int64                 \n",
      "   3   retention_1        90189     0    0.00       2  bool                  \n",
      "   4   retention_7        90189     0    0.00       2  bool                  \n",
      "dtypes: bool(2), object(1), int64(2)\n",
      "memory usage:  2.24 MB\n"
     ]
    }
   ],
   "source": [
    "# Check dataframe shape, null counts and unique values, datatypes\n",
    "infoplus(data)"
   ]
  },
  {
   "cell_type": "code",
   "execution_count": 54,
   "id": "0f97cc90-b280-4276-b87e-063c2ad13c97",
   "metadata": {},
   "outputs": [
    {
     "data": {
      "text/plain": [
       "(0, 0)"
      ]
     },
     "execution_count": 54,
     "metadata": {},
     "output_type": "execute_result"
    }
   ],
   "source": [
    "# Check duplicates within data frame and duplicated users\n",
    "\n",
    "data.duplicated().sum(), data['userid'].duplicated().sum()"
   ]
  },
  {
   "cell_type": "markdown",
   "id": "5cc26698-66aa-4731-bf18-1c87281f5d9c",
   "metadata": {
    "tags": []
   },
   "source": [
    "Observations:\n",
    "- There are no null values.\n",
    "- `version`, `retention_1` and `retention_7` have binary values as expected.\n",
    "- There are no duplicate entries or duplicated users.\n",
    "- Data is generally clean and ready to use."
   ]
  },
  {
   "cell_type": "markdown",
   "id": "ee2f7125-799c-4b13-b4df-c1f6a50384ce",
   "metadata": {},
   "source": [
    "## 4. Exploratory Data Analysis <a name='4'></a>"
   ]
  },
  {
   "cell_type": "code",
   "execution_count": 55,
   "id": "9b466c78-f019-43ee-8018-19d6274928eb",
   "metadata": {},
   "outputs": [
    {
     "data": {
      "text/html": [
       "<div>\n",
       "<style scoped>\n",
       "    .dataframe tbody tr th:only-of-type {\n",
       "        vertical-align: middle;\n",
       "    }\n",
       "\n",
       "    .dataframe tbody tr th {\n",
       "        vertical-align: top;\n",
       "    }\n",
       "\n",
       "    .dataframe thead th {\n",
       "        text-align: right;\n",
       "    }\n",
       "</style>\n",
       "<table border=\"1\" class=\"dataframe\">\n",
       "  <thead>\n",
       "    <tr style=\"text-align: right;\">\n",
       "      <th></th>\n",
       "      <th>userid</th>\n",
       "      <th>sum_gamerounds</th>\n",
       "      <th>retention_1</th>\n",
       "      <th>retention_7</th>\n",
       "    </tr>\n",
       "    <tr>\n",
       "      <th>version</th>\n",
       "      <th></th>\n",
       "      <th></th>\n",
       "      <th></th>\n",
       "      <th></th>\n",
       "    </tr>\n",
       "  </thead>\n",
       "  <tbody>\n",
       "    <tr>\n",
       "      <th>gate_30</th>\n",
       "      <td>44700</td>\n",
       "      <td>44700</td>\n",
       "      <td>44700</td>\n",
       "      <td>44700</td>\n",
       "    </tr>\n",
       "    <tr>\n",
       "      <th>gate_40</th>\n",
       "      <td>45489</td>\n",
       "      <td>45489</td>\n",
       "      <td>45489</td>\n",
       "      <td>45489</td>\n",
       "    </tr>\n",
       "  </tbody>\n",
       "</table>\n",
       "</div>"
      ],
      "text/plain": [
       "         userid  sum_gamerounds  retention_1  retention_7\n",
       "version                                                  \n",
       "gate_30   44700           44700        44700        44700\n",
       "gate_40   45489           45489        45489        45489"
      ]
     },
     "metadata": {},
     "output_type": "display_data"
    },
    {
     "data": {
      "image/png": "[encoded data removed]",
      "text/plain": [
       "<Figure size 432x288 with 1 Axes>"
      ]
     },
     "metadata": {
      "needs_background": "light"
     },
     "output_type": "display_data"
    }
   ],
   "source": [
    "# Coount of players in control and treatment group w/ visualisation\n",
    "\n",
    "display(data.groupby('version').count())\n",
    "\n",
    "sns.countplot(x='version', data=data)\n",
    "plt.show()"
   ]
  },
  {
   "cell_type": "code",
   "execution_count": null,
   "id": "bff1fdf2-6ac7-493f-8689-c61128c5120f",
   "metadata": {},
   "outputs": [],
   "source": []
  },
  {
   "cell_type": "code",
   "execution_count": null,
   "id": "8bc308b8-9aff-4b94-bde9-f7302d9dba18",
   "metadata": {},
   "outputs": [],
   "source": []
  },
  {
   "cell_type": "code",
   "execution_count": null,
   "id": "14350ee0-c5bb-4f43-b249-68d7e98f9520",
   "metadata": {},
   "outputs": [],
   "source": []
  },
  {
   "cell_type": "code",
   "execution_count": null,
   "id": "4c337dc1-157d-45e8-8385-f58ef88703ea",
   "metadata": {},
   "outputs": [],
   "source": []
  },
  {
   "cell_type": "code",
   "execution_count": null,
   "id": "500dca4e-50e0-4cf8-b7f5-477f9d7caa07",
   "metadata": {},
   "outputs": [],
   "source": []
  },
  {
   "cell_type": "code",
   "execution_count": null,
   "id": "2c02858d-98b3-4149-b413-f52c4d08e029",
   "metadata": {},
   "outputs": [],
   "source": []
  },
  {
   "cell_type": "code",
   "execution_count": null,
   "id": "d04a722a-c517-4bbf-9e8c-9eacc91c517e",
   "metadata": {},
   "outputs": [],
   "source": []
  }
 ],
 "metadata": {
  "kernelspec": {
   "display_name": "Python 3 (ipykernel)",
   "language": "python",
   "name": "python3"
  },
  "language_info": {
   "codemirror_mode": {
    "name": "ipython",
    "version": 3
   },
   "file_extension": ".py",
   "mimetype": "text/x-python",
   "name": "python",
   "nbconvert_exporter": "python",
   "pygments_lexer": "ipython3",
   "version": "3.8.12"
  }
 },
 "nbformat": 4,
 "nbformat_minor": 5
}
